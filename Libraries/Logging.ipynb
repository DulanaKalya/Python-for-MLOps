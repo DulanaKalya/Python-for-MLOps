{
 "cells": [
  {
   "cell_type": "code",
   "execution_count": 6,
   "id": "1e051387",
   "metadata": {},
   "outputs": [
    {
     "data": {
      "text/plain": [
       "'\\nPython logging is a built-in module that provides a flexible framework \\nfor emitting log messages from Python programs. It allows you to track events, \\nerrors, warnings, and informational messages during program execution, \\nwhich is useful for debugging and monitoring applications. \\nThe logging module supports different log levels \\n(DEBUG, INFO, WARNING, ERROR, CRITICAL) and can output \\nlogs to various destinations such as the console, files, or external systems.'"
      ]
     },
     "execution_count": 6,
     "metadata": {},
     "output_type": "execute_result"
    }
   ],
   "source": [
    "\"\"\"\n",
    "Python logging is a built-in module that provides a flexible framework \n",
    "for emitting log messages from Python programs. It allows you to track events, \n",
    "errors, warnings, and informational messages during program execution, \n",
    "which is useful for debugging and monitoring applications. \n",
    "The logging module supports different log levels \n",
    "(DEBUG, INFO, WARNING, ERROR, CRITICAL) and can output \n",
    "logs to various destinations such as the console, files, or external systems.\"\"\""
   ]
  },
  {
   "cell_type": "code",
   "execution_count": 7,
   "id": "1166e500",
   "metadata": {},
   "outputs": [
    {
     "name": "stderr",
     "output_type": "stream",
     "text": [
      "DEBUG:root:This is a debug message\n",
      "INFO:root:This is an info message\n",
      "WARNING:root:This is a warning message\n",
      "ERROR:root:This is an error message\n",
      "CRITICAL:root:This is a critical message\n"
     ]
    }
   ],
   "source": [
    "import logging\n",
    "##Configure the basic logging settings\n",
    "logging.basicConfig(level=logging.DEBUG)\n",
    "\n",
    "##log message with different severity levels\n",
    "logging.debug(\"This is a debug message\")\n",
    "logging.info(\"This is an info message\")\n",
    "logging.warning(\"This is a warning message\")\n",
    "logging.error(\"This is an error message\")\n",
    "logging.critical(\"This is a critical message\")"
   ]
  },
  {
   "cell_type": "code",
   "execution_count": 8,
   "id": "86cf2f23",
   "metadata": {
    "vscode": {
     "languageId": "markdown"
    }
   },
   "outputs": [],
   "source": [
    "# These log messages indicate the severity level of events in your program:\n",
    "# - DEBUG: Detailed information, useful for diagnosing problems.\n",
    "# - INFO: General information about program execution.\n",
    "# - WARNING: Something unexpected happened, but the program is still running.\n",
    "# - ERROR: A serious problem occurred, affecting program execution.\n",
    "# - CRITICAL: A very serious error, possibly causing the program to stop."
   ]
  },
  {
   "cell_type": "code",
   "execution_count": 11,
   "id": "016cb9b0",
   "metadata": {},
   "outputs": [
    {
     "name": "stderr",
     "output_type": "stream",
     "text": [
      "2025-07-24 08:41:04-root-DEBUG-This is a debug message\n",
      "2025-07-24 08:41:04-root-INFO-This is an info message\n",
      "2025-07-24 08:41:04-root-WARNING-This is a warning message\n",
      "2025-07-24 08:41:04-root-ERROR-This is an error message\n",
      "2025-07-24 08:41:04-root-CRITICAL-This is a critical message\n"
     ]
    }
   ],
   "source": [
    "# configuring logging\n",
    "import logging\n",
    "##Configure the basic logging settings\n",
    "#for handler in logging.root.handlers[:]:\n",
    "#    logging.root.removeHandler(handler)\n",
    "\n",
    "logging.basicConfig(\n",
    "    level=logging.DEBUG,\n",
    "    format='%(asctime)s-%(name)s-%(levelname)s-%(message)s',\n",
    "    datefmt='%Y-%m-%d %H:%M:%S'\n",
    "    )\n",
    "\n",
    "##log message with different severity levels\n",
    "logging.debug(\"This is a debug message\")\n",
    "logging.info(\"This is an info message\")\n",
    "logging.warning(\"This is a warning message\")\n",
    "logging.error(\"This is an error message\")\n",
    "logging.critical(\"This is a critical message\")"
   ]
  },
  {
   "cell_type": "code",
   "execution_count": 1,
   "id": "24e564e6",
   "metadata": {},
   "outputs": [],
   "source": [
    "# configuring logging\n",
    "import logging\n",
    "##Configure the basic logging settings\n",
    "#for handler in logging.root.handlers[:]:\n",
    "#    logging.root.removeHandler(handler)\n",
    "\n",
    "logging.basicConfig(\n",
    "    filename='app.log',\n",
    "    filemode='w',\n",
    "    level=logging.DEBUG,\n",
    "    format='%(asctime)s-%(name)s-%(levelname)s-%(message)s',\n",
    "    datefmt='%Y-%m-%d %H:%M:%S'\n",
    "    )\n",
    "\n",
    "##log message with different severity levels\n",
    "logging.debug(\"This is a debug message\")\n",
    "logging.info(\"This is an info message\")\n",
    "logging.warning(\"This is a warning message\")\n",
    "logging.error(\"This is an error message\")\n",
    "logging.critical(\"This is a critical message\")"
   ]
  },
  {
   "cell_type": "code",
   "execution_count": null,
   "id": "0f95a02b",
   "metadata": {},
   "outputs": [],
   "source": []
  }
 ],
 "metadata": {
  "kernelspec": {
   "display_name": "MLOps",
   "language": "python",
   "name": "python3"
  },
  "language_info": {
   "codemirror_mode": {
    "name": "ipython",
    "version": 3
   },
   "file_extension": ".py",
   "mimetype": "text/x-python",
   "name": "python",
   "nbconvert_exporter": "python",
   "pygments_lexer": "ipython3",
   "version": "3.12.0"
  }
 },
 "nbformat": 4,
 "nbformat_minor": 5
}
