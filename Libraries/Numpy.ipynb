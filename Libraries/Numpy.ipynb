{
 "cells": [
  {
   "cell_type": "code",
   "execution_count": null,
   "id": "ba892d11",
   "metadata": {},
   "outputs": [],
   "source": [
    "\"\"\"Numpy is a fundamental library for sciencitific computing in Python.It provides support \n",
    "for arrays and matrices , along with a collection of mathematical functions to operate on these data structures.\n",
    "In thos lesson, we will cover the basics of Numpy , focusing on arrays and vectorized operations\"\"\""
   ]
  }
 ],
 "metadata": {
  "language_info": {
   "name": "python"
  }
 },
 "nbformat": 4,
 "nbformat_minor": 5
}
