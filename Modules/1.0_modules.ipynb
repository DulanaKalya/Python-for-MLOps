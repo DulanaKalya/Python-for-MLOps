{
 "cells": [
  {
   "cell_type": "code",
   "execution_count": null,
   "id": "aa11b8c2",
   "metadata": {},
   "outputs": [],
   "source": [
    "from package.maths import addition\n",
    "\n",
    "addition(1,2)\n",
    "addition(8,4)"
   ]
  }
 ],
 "metadata": {
  "kernelspec": {
   "display_name": "MLOps",
   "language": "python",
   "name": "python3"
  },
  "language_info": {
   "name": "python",
   "version": "3.12.0"
  }
 },
 "nbformat": 4,
 "nbformat_minor": 5
}
