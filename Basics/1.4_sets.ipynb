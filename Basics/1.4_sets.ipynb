{
 "cells": [
  {
   "cell_type": "code",
   "execution_count": 5,
   "id": "6d018557",
   "metadata": {},
   "outputs": [
    {
     "data": {
      "text/plain": [
       "{1, 2, 4, 5, 6}"
      ]
     },
     "execution_count": 5,
     "metadata": {},
     "output_type": "execute_result"
    }
   ],
   "source": [
    "a = set([1,2,3,4,5])\n",
    "a.add(6)\n",
    "a.discard(3)\n",
    "a"
   ]
  },
  {
   "cell_type": "code",
   "execution_count": null,
   "id": "3fe72a2a",
   "metadata": {},
   "outputs": [
    {
     "name": "stdout",
     "output_type": "stream",
     "text": [
      "{1, 2, 4, 5, 6}\n",
      "{1, 2, 5}\n",
      "{1, 2, 5}\n"
     ]
    }
   ],
   "source": [
    "b = set([1,2,5])\n",
    "\n",
    "union_set = a.union(b)\n",
    "print(union_set)\n",
    "\n",
    "intersection_set = a.intersection(b)\n",
    "print(intersection_set)\n",
    "\n",
    "## important result\n",
    "a.intersection_update(b)\n",
    "print(a)"
   ]
  },
  {
   "cell_type": "code",
   "execution_count": 7,
   "id": "7b40f5b1",
   "metadata": {},
   "outputs": [
    {
     "name": "stdout",
     "output_type": "stream",
     "text": [
      "set()\n"
     ]
    }
   ],
   "source": [
    "print(a.difference(b))"
   ]
  },
  {
   "cell_type": "code",
   "execution_count": 10,
   "id": "70b63c79",
   "metadata": {},
   "outputs": [
    {
     "name": "stdout",
     "output_type": "stream",
     "text": [
      "{1, 2, 5}\n",
      "{1, 2, 5}\n",
      "set()\n"
     ]
    }
   ],
   "source": [
    "## Symmetric difference\n",
    "\n",
    "print(a)\n",
    "print(b)\n",
    "print(a.symmetric_difference(b))  ##a.symmetric_difference(b) == (a - b) ∪ (b - a)"
   ]
  },
  {
   "cell_type": "code",
   "execution_count": 12,
   "id": "b1c9b3c9",
   "metadata": {},
   "outputs": [
    {
     "name": "stdout",
     "output_type": "stream",
     "text": [
      "False\n",
      "True\n"
     ]
    }
   ],
   "source": [
    "## sets methods\n",
    "a={1,2,3,4,5,6}\n",
    "b={3,4,5}\n",
    "\n",
    "print(a.issubset(b))\n",
    "print(a.issuperset(b))"
   ]
  },
  {
   "cell_type": "code",
   "execution_count": 14,
   "id": "d6cac60a",
   "metadata": {},
   "outputs": [
    {
     "name": "stdout",
     "output_type": "stream",
     "text": [
      "{'In', 'about', 'sets', 'tutorial', 'this', 'discussing', 'we', 'are'}\n",
      "8\n"
     ]
    }
   ],
   "source": [
    "# counting unique words in text\n",
    "\n",
    "text = \"In this tutorial we are discussing about sets\"\n",
    "words = text.split()\n",
    "\n",
    "unique_words=set(words)\n",
    "print(unique_words)\n",
    "print(len(unique_words))"
   ]
  },
  {
   "cell_type": "code",
   "execution_count": null,
   "id": "6a65abdd",
   "metadata": {},
   "outputs": [],
   "source": []
  }
 ],
 "metadata": {
  "kernelspec": {
   "display_name": "Python 3",
   "language": "python",
   "name": "python3"
  },
  "language_info": {
   "codemirror_mode": {
    "name": "ipython",
    "version": 3
   },
   "file_extension": ".py",
   "mimetype": "text/x-python",
   "name": "python",
   "nbconvert_exporter": "python",
   "pygments_lexer": "ipython3",
   "version": "3.12.11"
  }
 },
 "nbformat": 4,
 "nbformat_minor": 5
}
