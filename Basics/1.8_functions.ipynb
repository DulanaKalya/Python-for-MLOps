{
 "cells": [
  {
   "cell_type": "code",
   "execution_count": 1,
   "id": "9211670e",
   "metadata": {},
   "outputs": [],
   "source": [
    "# Functions\n",
    "\n",
    "''' A function is a block of codes '''\n",
    "\n",
    "def function_name(parameters):\n",
    "    \"\"\"Docstring\"\"\"\n",
    "    # Function Body\n",
    "    return expression"
   ]
  },
  {
   "cell_type": "code",
   "execution_count": 6,
   "id": "e6b8394d",
   "metadata": {},
   "outputs": [
    {
     "name": "stdout",
     "output_type": "stream",
     "text": [
      "Number is even.\n"
     ]
    },
    {
     "data": {
      "text/plain": [
       "True"
      ]
     },
     "execution_count": 6,
     "metadata": {},
     "output_type": "execute_result"
    }
   ],
   "source": [
    "num = 24\n",
    "\n",
    "def is_even(number):\n",
    "    \"\"\"check num is even or not\"\"\"\n",
    "    if(number%2==0):\n",
    "        print(\"Number is even.\")\n",
    "        return True\n",
    "    else:\n",
    "        print(\"number is odd\")\n",
    "        return False\n",
    "    \n",
    "is_even(12)"
   ]
  },
  {
   "cell_type": "code",
   "execution_count": 8,
   "id": "006c3d4f",
   "metadata": {},
   "outputs": [
    {
     "name": "stdout",
     "output_type": "stream",
     "text": [
      "Hello Guest\n"
     ]
    }
   ],
   "source": [
    "#Default Parameters\n",
    "\n",
    "def greet(name=\"Guest\"):\n",
    "    print(f\"Hello {name}\")\n",
    "\n",
    "greet()"
   ]
  },
  {
   "cell_type": "code",
   "execution_count": 9,
   "id": "6e9e08a0",
   "metadata": {},
   "outputs": [
    {
     "name": "stdout",
     "output_type": "stream",
     "text": [
      "1\n",
      "2\n",
      "3\n",
      "4\n",
      "5\n",
      "6\n",
      "None\n"
     ]
    }
   ],
   "source": [
    "# variable Length arguments\n",
    "# positional and keywords arguments\n",
    "\n",
    "def print_numbers(*args):\n",
    "    for num in args:\n",
    "        print(num)\n",
    "\n",
    "print(print_numbers(1,2,3,4,5,6))"
   ]
  },
  {
   "cell_type": "code",
   "execution_count": 10,
   "id": "a51ef6fb",
   "metadata": {},
   "outputs": [],
   "source": [
    "def print_details(**kwargs):\n",
    "    for key,value in kwargs.items():\n",
    "        print(f\"{key} : {value}\")"
   ]
  },
  {
   "cell_type": "code",
   "execution_count": 14,
   "id": "60e48f22",
   "metadata": {},
   "outputs": [
    {
     "name": "stdout",
     "output_type": "stream",
     "text": [
      "name : Dulana\n",
      "age : 28\n",
      "name1 : he he\n"
     ]
    }
   ],
   "source": [
    "print_details(name = \"Dulana\" , age = 28 , name1 = \"he he\")"
   ]
  },
  {
   "cell_type": "code",
   "execution_count": 16,
   "id": "7a868f4e",
   "metadata": {},
   "outputs": [],
   "source": [
    "def print_details(*args,**kwargs):\n",
    "    for val in args:\n",
    "        print(f\"Positional argument : {val}\")\n",
    "\n",
    "    for key,value in kwargs.items():\n",
    "        print(f\"{key} : {value}\")"
   ]
  },
  {
   "cell_type": "code",
   "execution_count": 17,
   "id": "813ad3ae",
   "metadata": {},
   "outputs": [
    {
     "name": "stdout",
     "output_type": "stream",
     "text": [
      "Positional argument : 1\n",
      "Positional argument : 2\n",
      "Positional argument : 3\n",
      "Positional argument : 4\n",
      "Positional argument : 5\n",
      "Positional argument : 6\n",
      "name : Dulana\n",
      "age : 28\n",
      "name1 : he he\n"
     ]
    }
   ],
   "source": [
    "print_details(1,2,3,4,5,6,name = \"Dulana\" , age = 28 , name1 = \"he he\")\n"
   ]
  },
  {
   "cell_type": "code",
   "execution_count": 18,
   "id": "70dea69a",
   "metadata": {},
   "outputs": [
    {
     "name": "stdout",
     "output_type": "stream",
     "text": [
      "77.0\n",
      "25.0\n"
     ]
    }
   ],
   "source": [
    "# Temperature Conversion\n",
    "\n",
    "def convert_temperature(temp,unit):\n",
    "    \"\"\"This function converts temperature between celcius and fehrenheit\"\"\"\n",
    "    if unit == \"C\":\n",
    "        return temp*9/5+32  ## Celsius to Fahrenheit\n",
    "    elif unit == \"F\":\n",
    "        return (temp-32)*5/9\n",
    "    else:\n",
    "        return None\n",
    "    \n",
    "print(convert_temperature(25,'C'))\n",
    "print(convert_temperature(77,'F'))"
   ]
  }
 ],
 "metadata": {
  "kernelspec": {
   "display_name": "MLOps",
   "language": "python",
   "name": "python3"
  },
  "language_info": {
   "codemirror_mode": {
    "name": "ipython",
    "version": 3
   },
   "file_extension": ".py",
   "mimetype": "text/x-python",
   "name": "python",
   "nbconvert_exporter": "python",
   "pygments_lexer": "ipython3",
   "version": "3.12.0"
  }
 },
 "nbformat": 4,
 "nbformat_minor": 5
}
