{
 "cells": [
  {
   "cell_type": "code",
   "execution_count": 1,
   "id": "0ff0a888",
   "metadata": {},
   "outputs": [
    {
     "data": {
      "text/plain": [
       "'The map() function apllies a given function to all items in an input list (or any other iterable)\\n    and returns a map pbject (an iterator). This is particularly useful for transforming data in a list\\n    comprehensively.\\n'"
      ]
     },
     "execution_count": 1,
     "metadata": {},
     "output_type": "execute_result"
    }
   ],
   "source": [
    "## map() Function\n",
    "\n",
    "\"\"\"The map() function apllies a given function to all items in an input list (or any other iterable)\n",
    "    and returns a map pbject (an iterator). This is particularly useful for transforming data in a list\n",
    "    comprehensively.\n",
    "\"\"\""
   ]
  },
  {
   "cell_type": "code",
   "execution_count": 5,
   "id": "c2a3ef06",
   "metadata": {},
   "outputs": [
    {
     "name": "stdout",
     "output_type": "stream",
     "text": [
      "<map object at 0x108f398a0>\n",
      "[1, 4, 9, 16, 25, 36, 49, 64]\n"
     ]
    }
   ],
   "source": [
    "square = lambda x:x**2\n",
    "def squr(x):\n",
    "    return x**2\n",
    "\n",
    "numbers = [1,2,3,4,5,6,7,8]\n",
    "print(map(square,numbers))\n",
    "print(list(map(squr,numbers)))"
   ]
  },
  {
   "cell_type": "code",
   "execution_count": 8,
   "id": "16819a10",
   "metadata": {},
   "outputs": [
    {
     "data": {
      "text/plain": [
       "[5, 7, 9]"
      ]
     },
     "execution_count": 8,
     "metadata": {},
     "output_type": "execute_result"
    }
   ],
   "source": [
    "nums1 = [1,2,3]\n",
    "nums2 = [4,5,6]\n",
    "added_numbers = list(map(lambda x,y:x+y,nums1,nums2))\n",
    "added_numbers"
   ]
  },
  {
   "cell_type": "code",
   "execution_count": 9,
   "id": "b6b72200",
   "metadata": {},
   "outputs": [
    {
     "name": "stdout",
     "output_type": "stream",
     "text": [
      "[1, 2, 3, 4, 5]\n"
     ]
    }
   ],
   "source": [
    "# map() to convert a list of strings to integers\n",
    "# use map to convert strings to integers\n",
    "\n",
    "str_nums = ['1','2','3','4','5']\n",
    "int_nums = list(map(int,str_nums))\n",
    "\n",
    "print(int_nums)"
   ]
  },
  {
   "cell_type": "code",
   "execution_count": 11,
   "id": "2a42dbfe",
   "metadata": {},
   "outputs": [
    {
     "ename": "TypeError",
     "evalue": "unbound method str.upper() needs an argument",
     "output_type": "error",
     "traceback": [
      "\u001b[31m---------------------------------------------------------------------------\u001b[39m",
      "\u001b[31mTypeError\u001b[39m                                 Traceback (most recent call last)",
      "\u001b[36mCell\u001b[39m\u001b[36m \u001b[39m\u001b[32mIn[11]\u001b[39m\u001b[32m, line 2\u001b[39m\n\u001b[32m      1\u001b[39m words = [\u001b[33m'\u001b[39m\u001b[33mapple\u001b[39m\u001b[33m'\u001b[39m,\u001b[33m'\u001b[39m\u001b[33mbanana\u001b[39m\u001b[33m'\u001b[39m,\u001b[33m'\u001b[39m\u001b[33mcherry\u001b[39m\u001b[33m'\u001b[39m]\n\u001b[32m----> \u001b[39m\u001b[32m2\u001b[39m upper_words=\u001b[38;5;28mlist\u001b[39m(\u001b[38;5;28mmap\u001b[39m(\u001b[38;5;28;43mstr\u001b[39;49m\u001b[43m.\u001b[49m\u001b[43mupper\u001b[49m\u001b[43m(\u001b[49m\u001b[43m)\u001b[49m,words))\n\u001b[32m      3\u001b[39m \u001b[38;5;28mprint\u001b[39m(upper_words)\n",
      "\u001b[31mTypeError\u001b[39m: unbound method str.upper() needs an argument"
     ]
    }
   ],
   "source": [
    "words = ['apple','banana','cherry']\n",
    "upper_words=list(map(str.upper(),words))\n",
    "print(upper_words)"
   ]
  }
 ],
 "metadata": {
  "kernelspec": {
   "display_name": "MLOps",
   "language": "python",
   "name": "python3"
  },
  "language_info": {
   "codemirror_mode": {
    "name": "ipython",
    "version": 3
   },
   "file_extension": ".py",
   "mimetype": "text/x-python",
   "name": "python",
   "nbconvert_exporter": "python",
   "pygments_lexer": "ipython3",
   "version": "3.12.0"
  }
 },
 "nbformat": 4,
 "nbformat_minor": 5
}
