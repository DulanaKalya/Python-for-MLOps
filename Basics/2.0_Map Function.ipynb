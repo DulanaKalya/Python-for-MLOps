{
 "cells": [
  {
   "cell_type": "code",
   "execution_count": 1,
   "id": "0ff0a888",
   "metadata": {},
   "outputs": [
    {
     "data": {
      "text/plain": [
       "'The map() function apllies a given function to all items in an input list (or any other iterable)\\n    and returns a map pbject (an iterator). This is particularly useful for transforming data in a list\\n    comprehensively.\\n'"
      ]
     },
     "execution_count": 1,
     "metadata": {},
     "output_type": "execute_result"
    }
   ],
   "source": [
    "## map() Function\n",
    "\n",
    "\"\"\"The map() function apllies a given function to all items in an input list (or any other iterable)\n",
    "    and returns a map pbject (an iterator). This is particularly useful for transforming data in a list\n",
    "    comprehensively.\n",
    "\"\"\""
   ]
  },
  {
   "cell_type": "code",
   "execution_count": 5,
   "id": "c2a3ef06",
   "metadata": {},
   "outputs": [
    {
     "name": "stdout",
     "output_type": "stream",
     "text": [
      "<map object at 0x108f398a0>\n",
      "[1, 4, 9, 16, 25, 36, 49, 64]\n"
     ]
    }
   ],
   "source": [
    "square = lambda x:x**2\n",
    "def squr(x):\n",
    "    return x**2\n",
    "\n",
    "numbers = [1,2,3,4,5,6,7,8]\n",
    "print(map(square,numbers))\n",
    "print(list(map(squr,numbers)))"
   ]
  },
  {
   "cell_type": "code",
   "execution_count": 8,
   "id": "16819a10",
   "metadata": {},
   "outputs": [
    {
     "data": {
      "text/plain": [
       "[5, 7, 9]"
      ]
     },
     "execution_count": 8,
     "metadata": {},
     "output_type": "execute_result"
    }
   ],
   "source": [
    "nums1 = [1,2,3]\n",
    "nums2 = [4,5,6]\n",
    "added_numbers = list(map(lambda x,y:x+y,nums1,nums2))\n",
    "added_numbers"
   ]
  },
  {
   "cell_type": "code",
   "execution_count": 9,
   "id": "b6b72200",
   "metadata": {},
   "outputs": [
    {
     "name": "stdout",
     "output_type": "stream",
     "text": [
      "[1, 2, 3, 4, 5]\n"
     ]
    }
   ],
   "source": [
    "# map() to convert a list of strings to integers\n",
    "# use map to convert strings to integers\n",
    "\n",
    "str_nums = ['1','2','3','4','5']\n",
    "int_nums = list(map(int,str_nums))\n",
    "\n",
    "print(int_nums)"
   ]
  },
  {
   "cell_type": "code",
   "execution_count": 13,
   "id": "2a42dbfe",
   "metadata": {},
   "outputs": [
    {
     "name": "stdout",
     "output_type": "stream",
     "text": [
      "['APPLE', 'BANANA', 'CHERRY']\n"
     ]
    }
   ],
   "source": [
    "words = ['apple','banana','cherry']\n",
    "upper_words=list(map(str.upper,words))\n",
    "print(upper_words)"
   ]
  },
  {
   "cell_type": "code",
   "execution_count": 14,
   "id": "b749ecd5",
   "metadata": {},
   "outputs": [
    {
     "data": {
      "text/plain": [
       "['Dulana', 'He he']"
      ]
     },
     "execution_count": 14,
     "metadata": {},
     "output_type": "execute_result"
    }
   ],
   "source": [
    "def get_name(person):\n",
    "    return person['name']\n",
    "\n",
    "people = [\n",
    "    {'name' : 'Dulana','age' : 32},\n",
    "    {'name' : 'He he', 'age' : 30}\n",
    "]\n",
    "\n",
    "list(map(get_name,people))"
   ]
  },
  {
   "cell_type": "code",
   "execution_count": null,
   "id": "0f6d8211",
   "metadata": {},
   "outputs": [],
   "source": []
  }
 ],
 "metadata": {
  "kernelspec": {
   "display_name": "MLOps",
   "language": "python",
   "name": "python3"
  },
  "language_info": {
   "codemirror_mode": {
    "name": "ipython",
    "version": 3
   },
   "file_extension": ".py",
   "mimetype": "text/x-python",
   "name": "python",
   "nbconvert_exporter": "python",
   "pygments_lexer": "ipython3",
   "version": "3.12.0"
  }
 },
 "nbformat": 4,
 "nbformat_minor": 5
}
