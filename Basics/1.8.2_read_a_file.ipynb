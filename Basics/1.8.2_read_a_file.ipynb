{
 "cells": [
  {
   "cell_type": "code",
   "execution_count": 2,
   "id": "ad592d71",
   "metadata": {},
   "outputs": [],
   "source": [
    "# A function to read a file and count the frequency of each word\n",
    "\n",
    "def count_word_frequency(file_path):\n",
    "    word_count = {}\n",
    "    with open(file_path,'r') as file:\n",
    "        for line in file:\n",
    "            words = line.split()\n",
    "            for word in words:\n",
    "                word=word.lower().strip('.,!?:;\"\\'')\n",
    "                word_count[word]=word_count.get(word,0)+1\n",
    "    return word_count"
   ]
  },
  {
   "cell_type": "code",
   "execution_count": 6,
   "id": "7f9ca598",
   "metadata": {},
   "outputs": [
    {
     "name": "stdout",
     "output_type": "stream",
     "text": [
      "{'i': 2, 'love': 1, 'my': 1, 'world': 1, 'want': 1, 'to': 1, 'become': 1, 'a': 1, 'machine': 1, 'learning': 1, 'engineer': 1}\n"
     ]
    }
   ],
   "source": [
    "print(count_word_frequency(\"/Users/nethsarani/Desktop/Dulana/Python-for-MLOps/text.txt\"))"
   ]
  }
 ],
 "metadata": {
  "kernelspec": {
   "display_name": "MLOps",
   "language": "python",
   "name": "python3"
  },
  "language_info": {
   "codemirror_mode": {
    "name": "ipython",
    "version": 3
   },
   "file_extension": ".py",
   "mimetype": "text/x-python",
   "name": "python",
   "nbconvert_exporter": "python",
   "pygments_lexer": "ipython3",
   "version": "3.12.0"
  }
 },
 "nbformat": 4,
 "nbformat_minor": 5
}
