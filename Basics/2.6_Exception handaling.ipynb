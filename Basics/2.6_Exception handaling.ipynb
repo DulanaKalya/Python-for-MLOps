{
 "cells": [
  {
   "cell_type": "code",
   "execution_count": null,
   "id": "4af2759a",
   "metadata": {},
   "outputs": [
    {
     "name": "stdout",
     "output_type": "stream",
     "text": [
      "The variable has not beem assigned\n"
     ]
    }
   ],
   "source": [
    "# Name Error - Exception handaling\n",
    "\n",
    "try:\n",
    "    a=b\n",
    "except:\n",
    "    print(\"The variable has not beem assigned\")"
   ]
  },
  {
   "cell_type": "code",
   "execution_count": 3,
   "id": "709dfff8",
   "metadata": {},
   "outputs": [
    {
     "name": "stdout",
     "output_type": "stream",
     "text": [
      "name 'b' is not defined\n"
     ]
    }
   ],
   "source": [
    "# Name Error - Exception handaling\n",
    "\n",
    "try:\n",
    "    a=b\n",
    "except NameError as ex:\n",
    "    print(ex)"
   ]
  },
  {
   "cell_type": "code",
   "execution_count": null,
   "id": "a3a09571",
   "metadata": {},
   "outputs": [
    {
     "name": "stdout",
     "output_type": "stream",
     "text": [
      "division by zero \n",
      " Please enter denominator greater than 0\n"
     ]
    }
   ],
   "source": [
    "try:\n",
    "    result = 1/0\n",
    "except ZeroDivisionError as ex:\n",
    "    print(ex,\"\\n Please enter denominator greater than 0.\")"
   ]
  },
  {
   "cell_type": "code",
   "execution_count": 7,
   "id": "d0959aed",
   "metadata": {},
   "outputs": [
    {
     "name": "stdout",
     "output_type": "stream",
     "text": [
      "name 'b' is not defined\n",
      "Main exception got caught here\n"
     ]
    }
   ],
   "source": [
    "try:\n",
    "    a=b\n",
    "    result = 1/0\n",
    "except ZeroDivisionError as ex:\n",
    "    print(ex,\"\\n Please enter denominator greater than 0.\")\n",
    "except Exception as ex1:\n",
    "    print(ex1)\n",
    "    print('Main exception got caught here')"
   ]
  },
  {
   "cell_type": "code",
   "execution_count": 8,
   "id": "10c4694d",
   "metadata": {},
   "outputs": [
    {
     "name": "stdout",
     "output_type": "stream",
     "text": [
      "Enter denominator greter than 0\n"
     ]
    }
   ],
   "source": [
    "try:\n",
    "    num = int(input(\"Enter the number :\"))\n",
    "    result = 10/num\n",
    "except ValueError:\n",
    "    print(\"This is not a valid number\")\n",
    "except ZeroDivisionError:\n",
    "    print(\"Enter denominator greter than 0\")\n",
    "except Exception as ex:\n",
    "    print(ex)"
   ]
  },
  {
   "cell_type": "code",
   "execution_count": 9,
   "id": "28eb1bf8",
   "metadata": {},
   "outputs": [
    {
     "name": "stdout",
     "output_type": "stream",
     "text": [
      "The result is 1.1111111111111112\n"
     ]
    }
   ],
   "source": [
    "# try , except , else block\n",
    "\n",
    "try:\n",
    "    num = int(input(\"Enter a number : \"))\n",
    "    result = 10 /num\n",
    "except ValueError :\n",
    "    print(\"That's not a valid number !\")\n",
    "except ZeroDivisionError:\n",
    "    print(\"You can't divide by zero!\")\n",
    "except Exception as ex:\n",
    "    print(ex)\n",
    "else:\n",
    "    print(f\"The result is {result}\")"
   ]
  },
  {
   "cell_type": "code",
   "execution_count": null,
   "id": "68d9eb1c",
   "metadata": {},
   "outputs": [
    {
     "name": "stdout",
     "output_type": "stream",
     "text": [
      "You can't divide by zero!\n",
      "Excution complete\n"
     ]
    }
   ],
   "source": [
    "# try , except , else and finally\n",
    "try:\n",
    "    num = int(input(\"Enter a number : \"))\n",
    "    result = 10 /num\n",
    "except ValueError :\n",
    "    print(\"That's not a valid number !\")\n",
    "except ZeroDivisionError:\n",
    "    print(\"You can't divide by zero!\")\n",
    "except Exception as ex:\n",
    "    print(ex)\n",
    "else:\n",
    "    print(f\"The result is {result}\")\n",
    "finally:\n",
    "    print(\"Excution complete\")\n",
    "\n",
    "# else - execute if there is no error\n",
    "# finally - always execute at the end"
   ]
  },
  {
   "cell_type": "code",
   "execution_count": 16,
   "id": "916df997",
   "metadata": {},
   "outputs": [
    {
     "name": "stdout",
     "output_type": "stream",
     "text": [
      "Hello World! \n",
      "this is a new line\n",
      "Hello World! \n",
      "this is a new line\n",
      "First line \n",
      "Second line \n",
      "Third line\n",
      "\n",
      "Excution complete\n"
     ]
    }
   ],
   "source": [
    "# File handling and Exception handling\n",
    "\n",
    "try:\n",
    "    with open('example.txt','r') as file:\n",
    "        content = file.read()\n",
    "        print(content)\n",
    "except FileNotFoundError:\n",
    "    print(\"The file does not exists\")\n",
    "except Exception as ex:\n",
    "    print(ex)\n",
    "finally:\n",
    "    if file in locals() and not file.closed():\n",
    "        file.close()\n",
    "        print('file close')\n",
    "    print(\"Excution complete\")"
   ]
  },
  {
   "cell_type": "code",
   "execution_count": null,
   "id": "533b6974",
   "metadata": {},
   "outputs": [],
   "source": []
  }
 ],
 "metadata": {
  "kernelspec": {
   "display_name": "MLOps",
   "language": "python",
   "name": "python3"
  },
  "language_info": {
   "codemirror_mode": {
    "name": "ipython",
    "version": 3
   },
   "file_extension": ".py",
   "mimetype": "text/x-python",
   "name": "python",
   "nbconvert_exporter": "python",
   "pygments_lexer": "ipython3",
   "version": "3.12.0"
  }
 },
 "nbformat": 4,
 "nbformat_minor": 5
}
