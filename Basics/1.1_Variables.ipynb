{
 "cells": [
  {
   "cell_type": "code",
   "execution_count": 2,
   "id": "35b0e4c0",
   "metadata": {},
   "outputs": [
    {
     "name": "stdout",
     "output_type": "stream",
     "text": [
      "age : 32\n",
      "6.1\n",
      "True\n"
     ]
    },
    {
     "data": {
      "text/plain": [
       "(None, None, None)"
      ]
     },
     "execution_count": 2,
     "metadata": {},
     "output_type": "execute_result"
    }
   ],
   "source": [
    "## Declaring and Assigning variables\n",
    "\n",
    "age = 32\n",
    "height = 6.1\n",
    "name = \"Dulana\"\n",
    "is_student = True\n",
    "\n",
    "print(f\"age : {age}\"),print(height),print(is_student)"
   ]
  },
  {
   "cell_type": "code",
   "execution_count": 3,
   "id": "e0983bc0",
   "metadata": {},
   "outputs": [],
   "source": [
    "## Naming convention\n",
    "## Variables names should be descriptive\n",
    "## they must start with a letter or '_' and contains letter , numbers and underscores\n",
    "\n",
    "# valid variable names\n",
    "\n",
    "first_name = \"Dulana\"\n",
    "last_name = \"Karunathilake\""
   ]
  },
  {
   "cell_type": "code",
   "execution_count": 5,
   "id": "56d9aad8",
   "metadata": {},
   "outputs": [],
   "source": [
    "#Invalid variable names\n",
    "\n",
    "# 2age =30\n",
    "# first-name = \"Dulana\"\n",
    "# @name = \"Dulana\""
   ]
  },
  {
   "cell_type": "code",
   "execution_count": 6,
   "id": "8cafac24",
   "metadata": {},
   "outputs": [],
   "source": [
    "## Case sensitivity\n",
    "\n",
    "name = \"Dulana\"\n",
    "Name = \"Kamal\""
   ]
  },
  {
   "cell_type": "code",
   "execution_count": 10,
   "id": "6ee60f28",
   "metadata": {},
   "outputs": [
    {
     "data": {
      "text/plain": [
       "str"
      ]
     },
     "execution_count": 10,
     "metadata": {},
     "output_type": "execute_result"
    }
   ],
   "source": [
    "## Understanding variable types\n",
    "## python is dynamically typed , type of a variable is determined at runtime\n",
    "\n",
    "## Type conversion\n",
    "\n",
    "age_str = str(age)\n",
    "type(age_str)"
   ]
  },
  {
   "cell_type": "code",
   "execution_count": 11,
   "id": "480fff07",
   "metadata": {},
   "outputs": [
    {
     "name": "stdout",
     "output_type": "stream",
     "text": [
      "10 <class 'int'>\n",
      "Hello <class 'str'>\n"
     ]
    }
   ],
   "source": [
    "## Dynamic typing\n",
    "## Python allows the type of a variable to chnage as the program executes\n",
    "var = 10\n",
    "print(var,type(var))\n",
    "\n",
    "var = \"Hello\"\n",
    "print(var,type(var))"
   ]
  },
  {
   "cell_type": "code",
   "execution_count": null,
   "id": "0342b2e7",
   "metadata": {},
   "outputs": [
    {
     "name": "stdout",
     "output_type": "stream",
     "text": [
      "\n"
     ]
    }
   ],
   "source": [
    "## input\n",
    "\n",
    "age = input(\"What is the age ?\")\n",
    "print(age)"
   ]
  },
  {
   "cell_type": "code",
   "execution_count": 14,
   "id": "ce473014",
   "metadata": {},
   "outputs": [],
   "source": [
    "num1 = float(input(\"Enter the nymber :\"))"
   ]
  }
 ],
 "metadata": {
  "kernelspec": {
   "display_name": "Python 3",
   "language": "python",
   "name": "python3"
  },
  "language_info": {
   "codemirror_mode": {
    "name": "ipython",
    "version": 3
   },
   "file_extension": ".py",
   "mimetype": "text/x-python",
   "name": "python",
   "nbconvert_exporter": "python",
   "pygments_lexer": "ipython3",
   "version": "3.12.11"
  }
 },
 "nbformat": 4,
 "nbformat_minor": 5
}
