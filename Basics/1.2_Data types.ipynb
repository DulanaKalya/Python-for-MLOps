{
 "cells": [
  {
   "cell_type": "code",
   "execution_count": 1,
   "id": "9c33b5e2",
   "metadata": {},
   "outputs": [],
   "source": [
    "## int\n",
    "age = 35\n",
    "#float\n",
    "height = 6.11\n",
    "#String\n",
    "name = \"Dulana\""
   ]
  },
  {
   "cell_type": "code",
   "execution_count": null,
   "id": "955b6b82",
   "metadata": {},
   "outputs": [
    {
     "data": {
      "text/plain": [
       "True"
      ]
     },
     "execution_count": 5,
     "metadata": {},
     "output_type": "execute_result"
    }
   ],
   "source": [
    "bool()"
   ]
  },
  {
   "cell_type": "code",
   "execution_count": null,
   "id": "0886ee8f",
   "metadata": {},
   "outputs": [],
   "source": []
  }
 ],
 "metadata": {
  "kernelspec": {
   "display_name": "Python 3",
   "language": "python",
   "name": "python3"
  },
  "language_info": {
   "codemirror_mode": {
    "name": "ipython",
    "version": 3
   },
   "file_extension": ".py",
   "mimetype": "text/x-python",
   "name": "python",
   "nbconvert_exporter": "python",
   "pygments_lexer": "ipython3",
   "version": "3.12.11"
  }
 },
 "nbformat": 4,
 "nbformat_minor": 5
}
