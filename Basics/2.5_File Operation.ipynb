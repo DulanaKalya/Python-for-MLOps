{
 "cells": [
  {
   "cell_type": "code",
   "execution_count": 20,
   "id": "ba7c5d9c",
   "metadata": {},
   "outputs": [
    {
     "name": "stdout",
     "output_type": "stream",
     "text": [
      "Hello World! \n",
      "this is a new line\n",
      "Hello World! \n",
      "this is a new line\n"
     ]
    }
   ],
   "source": [
    "# Read a whole file\n",
    "\n",
    "with open('example.txt','r') as file:\n",
    "    content = file.read()\n",
    "    print(content)"
   ]
  },
  {
   "cell_type": "code",
   "execution_count": 21,
   "id": "a4d69438",
   "metadata": {},
   "outputs": [
    {
     "name": "stdout",
     "output_type": "stream",
     "text": [
      "Hello World! \n",
      "\n",
      "this is a new line\n",
      "\n",
      "Hello World! \n",
      "\n",
      "this is a new line\n"
     ]
    }
   ],
   "source": [
    "with open('example.txt','r') as file:\n",
    "    for line in file:\n",
    "        print(line)"
   ]
  },
  {
   "cell_type": "code",
   "execution_count": 22,
   "id": "5630b473",
   "metadata": {},
   "outputs": [
    {
     "name": "stdout",
     "output_type": "stream",
     "text": [
      "Hello World!\n",
      "this is a new line\n",
      "Hello World!\n",
      "this is a new line\n"
     ]
    }
   ],
   "source": [
    "with open('example.txt','r') as file:\n",
    "    for line in file:\n",
    "        print(line.strip())"
   ]
  },
  {
   "cell_type": "code",
   "execution_count": 23,
   "id": "5bdcee8f",
   "metadata": {},
   "outputs": [],
   "source": [
    "with open('example.txt','w') as file:\n",
    "    file.write('Hello World! \\n')\n",
    "    file.write('this is a new line')"
   ]
  },
  {
   "cell_type": "code",
   "execution_count": 24,
   "id": "80e463f0",
   "metadata": {},
   "outputs": [],
   "source": [
    "with open('example.txt','a') as file:\n",
    "    file.write('\\nHello World! \\n')\n",
    "    file.write('this is a new line\\n')"
   ]
  },
  {
   "cell_type": "code",
   "execution_count": 25,
   "id": "376ad6de",
   "metadata": {},
   "outputs": [],
   "source": [
    "# writing a list of lines to file\n",
    "lines = ['First line \\n','Second line \\n','Third line\\n']\n",
    "with open('example.txt','a') as file:\n",
    "    file.writelines(lines)"
   ]
  }
 ],
 "metadata": {
  "kernelspec": {
   "display_name": "MLOps",
   "language": "python",
   "name": "python3"
  },
  "language_info": {
   "codemirror_mode": {
    "name": "ipython",
    "version": 3
   },
   "file_extension": ".py",
   "mimetype": "text/x-python",
   "name": "python",
   "nbconvert_exporter": "python",
   "pygments_lexer": "ipython3",
   "version": "3.12.0"
  }
 },
 "nbformat": 4,
 "nbformat_minor": 5
}
