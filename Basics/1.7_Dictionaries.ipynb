{
 "cells": [
  {
   "cell_type": "code",
   "execution_count": null,
   "id": "ccee1f06",
   "metadata": {},
   "outputs": [
    {
     "data": {
      "text/plain": [
       "dict"
      ]
     },
     "execution_count": 6,
     "metadata": {},
     "output_type": "execute_result"
    }
   ],
   "source": [
    "# Dictionries\n",
    "''' Dictronaries are unordered collections of items.They store data in key-value pairs.\n",
    "    Keys must be unique and immutable , \n",
    "    while values can be of any type. \n",
    "'''\n"
   ]
  },
  {
   "cell_type": "code",
   "execution_count": 7,
   "id": "7824988a",
   "metadata": {},
   "outputs": [
    {
     "name": "stdout",
     "output_type": "stream",
     "text": [
      "<class 'dict'>\n"
     ]
    }
   ],
   "source": [
    "## creating dictionary\n",
    "\n",
    "empty_dict = {}\n",
    "print(type(empty_dict))"
   ]
  },
  {
   "cell_type": "code",
   "execution_count": 8,
   "id": "fb72d9cb",
   "metadata": {},
   "outputs": [],
   "source": [
    "empty_dict = dict()"
   ]
  },
  {
   "cell_type": "code",
   "execution_count": 9,
   "id": "6e76935a",
   "metadata": {},
   "outputs": [
    {
     "data": {
      "text/plain": [
       "'he he'"
      ]
     },
     "execution_count": 9,
     "metadata": {},
     "output_type": "execute_result"
    }
   ],
   "source": [
    "student = {\"name\" : \"Dulana\" , \"age\" : 28 , \"name\" : \"he he\" }\n",
    "student[\"name\"]"
   ]
  },
  {
   "cell_type": "code",
   "execution_count": 10,
   "id": "70e7bd64",
   "metadata": {},
   "outputs": [],
   "source": [
    "names = { 1 : \"Dulana\" , 2 : \"Namal\" , 3 : \"Kamal\" , 4 : \"Bimal\"}\n",
    "\n",
    "first,*middle,last = names"
   ]
  },
  {
   "cell_type": "code",
   "execution_count": 12,
   "id": "e629e2d9",
   "metadata": {},
   "outputs": [
    {
     "name": "stdout",
     "output_type": "stream",
     "text": [
      "1\n",
      "2 3\n",
      "4\n"
     ]
    }
   ],
   "source": [
    "print(first)\n",
    "print(*middle)\n",
    "print(last)"
   ]
  },
  {
   "cell_type": "code",
   "execution_count": 14,
   "id": "e1f71519",
   "metadata": {},
   "outputs": [
    {
     "name": "stdout",
     "output_type": "stream",
     "text": [
      "Dulana\n",
      "Dulana\n"
     ]
    }
   ],
   "source": [
    "## Accessing using get()\n",
    "print(names[1])\n",
    "print(names.get(1))"
   ]
  },
  {
   "cell_type": "code",
   "execution_count": 15,
   "id": "942326f1",
   "metadata": {},
   "outputs": [
    {
     "name": "stdout",
     "output_type": "stream",
     "text": [
      "None\n",
      "Not Available\n"
     ]
    }
   ],
   "source": [
    "print(student.get(1))\n",
    "print(student.get(5,\"Not Available\"))\n"
   ]
  },
  {
   "cell_type": "code",
   "execution_count": 16,
   "id": "50597800",
   "metadata": {},
   "outputs": [
    {
     "name": "stdout",
     "output_type": "stream",
     "text": [
      "{1: 'Dulana', 2: 'Namal', 3: 'Kamal', 4: 'Bimal'}\n"
     ]
    }
   ],
   "source": [
    "## Modifying Dictionary elements\n",
    "## Dictionary are mutable , so you can add , update or delete elements\n",
    "print(names)"
   ]
  },
  {
   "cell_type": "code",
   "execution_count": null,
   "id": "0a27e07c",
   "metadata": {},
   "outputs": [],
   "source": [
    "names[1] = \"gale\" ## updated the value"
   ]
  },
  {
   "cell_type": "code",
   "execution_count": 18,
   "id": "bf7fc5d6",
   "metadata": {},
   "outputs": [
    {
     "data": {
      "text/plain": [
       "{1: 'gale', 2: 'Namal', 3: 'Kamal', 4: 'Bimal'}"
      ]
     },
     "execution_count": 18,
     "metadata": {},
     "output_type": "execute_result"
    }
   ],
   "source": [
    "names"
   ]
  },
  {
   "cell_type": "code",
   "execution_count": 19,
   "id": "19423d76",
   "metadata": {},
   "outputs": [
    {
     "name": "stdout",
     "output_type": "stream",
     "text": [
      "{2: 'Namal', 3: 'Kamal', 4: 'Bimal'}\n"
     ]
    }
   ],
   "source": [
    "del names[1] ## delete key and value pair\n",
    "print(names)"
   ]
  },
  {
   "cell_type": "code",
   "execution_count": 20,
   "id": "cb4131ad",
   "metadata": {},
   "outputs": [
    {
     "name": "stdout",
     "output_type": "stream",
     "text": [
      "dict_keys([2, 3, 4])\n"
     ]
    }
   ],
   "source": [
    "## Dictionary methods\n",
    "\n",
    "keys = names.keys()\n",
    "print(keys)"
   ]
  },
  {
   "cell_type": "code",
   "execution_count": 23,
   "id": "c225def0",
   "metadata": {},
   "outputs": [
    {
     "name": "stdout",
     "output_type": "stream",
     "text": [
      "dict_values(['Namal', 'Kamal', 'Bimal'])\n"
     ]
    }
   ],
   "source": [
    "values = names.values()\n",
    "print(values)"
   ]
  },
  {
   "cell_type": "code",
   "execution_count": null,
   "id": "1bb50ef9",
   "metadata": {},
   "outputs": [
    {
     "data": {
      "text/plain": [
       "dict_items([(2, 'Namal'), (3, 'Kamal'), (4, 'Bimal')])"
      ]
     },
     "execution_count": 25,
     "metadata": {},
     "output_type": "execute_result"
    }
   ],
   "source": [
    "items = names.items()\n",
    "items # list of tuples"
   ]
  },
  {
   "cell_type": "code",
   "execution_count": 26,
   "id": "1f78488d",
   "metadata": {},
   "outputs": [
    {
     "name": "stdout",
     "output_type": "stream",
     "text": [
      "{2: 'Namal', 3: 'Kamal', 4: 'Bimal'}\n",
      "{2: 'Namal', 3: 'Kamal', 4: 'Bimal'}\n"
     ]
    }
   ],
   "source": [
    "## shallow copyright\n",
    "names_copy = names\n",
    "print(names)\n",
    "print(names_copy)"
   ]
  },
  {
   "cell_type": "code",
   "execution_count": 27,
   "id": "6c84da29",
   "metadata": {},
   "outputs": [
    {
     "name": "stdout",
     "output_type": "stream",
     "text": [
      "{2: 'he he', 3: 'Kamal', 4: 'Bimal'}\n",
      "{2: 'he he', 3: 'Kamal', 4: 'Bimal'}\n"
     ]
    }
   ],
   "source": [
    "names[2] = \"he he\"\n",
    "print(names)\n",
    "print(names_copy)"
   ]
  },
  {
   "cell_type": "code",
   "execution_count": 29,
   "id": "503c88d4",
   "metadata": {},
   "outputs": [
    {
     "name": "stdout",
     "output_type": "stream",
     "text": [
      "{2: 'he he 2', 3: 'Kamal', 4: 'Bimal'}\n",
      "{2: 'he he', 3: 'Kamal', 4: 'Bimal'}\n"
     ]
    }
   ],
   "source": [
    "names_copy = names.copy() #Allocate another memmory space for copy\n",
    "names[2] = \"he he 2\"\n",
    "print(names)\n",
    "print(names_copy)"
   ]
  },
  {
   "cell_type": "code",
   "execution_count": 31,
   "id": "af88a114",
   "metadata": {},
   "outputs": [
    {
     "name": "stdout",
     "output_type": "stream",
     "text": [
      "2\n",
      "3\n",
      "4\n"
     ]
    }
   ],
   "source": [
    "# Iterating over dictionaries\n",
    "# You can use loops to iterate over dictionaries , keys , values or items\n",
    "\n",
    "# Iterating over keys \n",
    "for keys in names.keys():\n",
    "    print(keys)"
   ]
  },
  {
   "cell_type": "code",
   "execution_count": 32,
   "id": "eca68eef",
   "metadata": {},
   "outputs": [
    {
     "name": "stdout",
     "output_type": "stream",
     "text": [
      "(2, 'he he 2')\n",
      "(3, 'Kamal')\n",
      "(4, 'Bimal')\n"
     ]
    }
   ],
   "source": [
    "for items in names.items():\n",
    "    print(items)"
   ]
  },
  {
   "cell_type": "code",
   "execution_count": 33,
   "id": "e436e7a3",
   "metadata": {},
   "outputs": [
    {
     "name": "stdout",
     "output_type": "stream",
     "text": [
      "he he 2\n",
      "Kamal\n",
      "Bimal\n"
     ]
    }
   ],
   "source": [
    "for value in names.values():\n",
    "    print(value)"
   ]
  },
  {
   "cell_type": "code",
   "execution_count": 34,
   "id": "12841c26",
   "metadata": {},
   "outputs": [
    {
     "name": "stdout",
     "output_type": "stream",
     "text": [
      "2 : he he 2\n",
      "3 : Kamal\n",
      "4 : Bimal\n"
     ]
    }
   ],
   "source": [
    "for key,value in names.items():\n",
    "    print(f\"{key} : {value}\")"
   ]
  },
  {
   "cell_type": "code",
   "execution_count": null,
   "id": "29db6fc1",
   "metadata": {},
   "outputs": [],
   "source": [
    "#Nested Dictionaries\n",
    "students = {\n",
    "    \"student1\" : {\"name\" : \"Krish\",\"age\" : 28},\n",
    "    \"student2\" : {\"name\" : \"krish2\",\"age\" : 26}\n",
    "}"
   ]
  },
  {
   "cell_type": "code",
   "execution_count": 37,
   "id": "3098749f",
   "metadata": {},
   "outputs": [
    {
     "name": "stdout",
     "output_type": "stream",
     "text": [
      "student1 : {'name': 'Krish', 'age': 28}\n",
      "name:Krish\n",
      "age:28\n",
      "student2 : {'name': 'krish2', 'age': 26}\n",
      "name:krish2\n",
      "age:26\n"
     ]
    }
   ],
   "source": [
    "# Iterating over nested dictionaries\n",
    "for student_id,student_info in students.items():\n",
    "    print(f\"{student_id} : {student_info}\")\n",
    "    for key,value in student_info.items():  # Unpacking tuple\n",
    "        print(f\"{key}:{value}\")"
   ]
  },
  {
   "cell_type": "code",
   "execution_count": 38,
   "id": "0c0b2507",
   "metadata": {},
   "outputs": [
    {
     "name": "stdout",
     "output_type": "stream",
     "text": [
      "{0: 0, 1: 1, 2: 4, 3: 9, 4: 16}\n"
     ]
    }
   ],
   "source": [
    "## Distionary Comphrension\n",
    "squares = {x:x**2 for x in range(5)}\n",
    "print(squares)"
   ]
  },
  {
   "cell_type": "code",
   "execution_count": 41,
   "id": "40e72e8d",
   "metadata": {},
   "outputs": [
    {
     "name": "stdout",
     "output_type": "stream",
     "text": [
      "{0: 0, 2: 4, 4: 16, 6: 36, 8: 64}\n"
     ]
    }
   ],
   "source": [
    "# Conditional dictionary\n",
    "evens = {x:x**2 for x in range(10) if x%2 == 0 }\n",
    "print(evens)"
   ]
  },
  {
   "cell_type": "code",
   "execution_count": 42,
   "id": "2f475840",
   "metadata": {},
   "outputs": [
    {
     "name": "stdout",
     "output_type": "stream",
     "text": [
      "{1: 1, 2: 2, 3: 3, 4: 3}\n"
     ]
    }
   ],
   "source": [
    "# practical examples \n",
    "# Use a dictionary to count the frequency of elements in list\n",
    "\n",
    "numbers = [1,2,2,3,3,3,4,4,4,]\n",
    "frequency = {}\n",
    "\n",
    "for number in numbers:\n",
    "    if number in frequency:\n",
    "        frequency[number] += 1\n",
    "    else:\n",
    "        frequency[number] = 1\n",
    "print(frequency)"
   ]
  },
  {
   "cell_type": "code",
   "execution_count": 44,
   "id": "f9d3e7f4",
   "metadata": {},
   "outputs": [
    {
     "name": "stdout",
     "output_type": "stream",
     "text": [
      "{'a': 1, 'b': 3, 'c': 4}\n"
     ]
    }
   ],
   "source": [
    "# Merge 2 dictionaries into one\n",
    "dict1={\"a\":1,\"b\":2}\n",
    "dict2={\"b\":3,\"c\":4}\n",
    "merged_dict = {**dict1,**dict2}\n",
    "print(merged_dict)"
   ]
  }
 ],
 "metadata": {
  "kernelspec": {
   "display_name": "MLOps",
   "language": "python",
   "name": "python3"
  },
  "language_info": {
   "codemirror_mode": {
    "name": "ipython",
    "version": 3
   },
   "file_extension": ".py",
   "mimetype": "text/x-python",
   "name": "python",
   "nbconvert_exporter": "python",
   "pygments_lexer": "ipython3",
   "version": "3.12.0"
  }
 },
 "nbformat": 4,
 "nbformat_minor": 5
}
