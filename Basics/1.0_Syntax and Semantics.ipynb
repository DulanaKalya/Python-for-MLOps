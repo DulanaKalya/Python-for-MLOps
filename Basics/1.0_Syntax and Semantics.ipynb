{
 "cells": [
  {
   "cell_type": "code",
   "execution_count": 1,
   "id": "6f22126b",
   "metadata": {},
   "outputs": [
    {
     "data": {
      "text/plain": [
       "'\\n    Multilines comments\\n'"
      ]
     },
     "execution_count": 1,
     "metadata": {},
     "output_type": "execute_result"
    }
   ],
   "source": [
    "# Basic Syntax Rules in Python // single line comments\n",
    "'''\n",
    "    Multilines comments\n",
    "'''"
   ]
  },
  {
   "cell_type": "code",
   "execution_count": 4,
   "id": "2b9a73b3",
   "metadata": {},
   "outputs": [
    {
     "name": "stdout",
     "output_type": "stream",
     "text": [
      "Dulana\n",
      "Kamal\n"
     ]
    }
   ],
   "source": [
    "#case sentivity - python is case sensitive\n",
    "\n",
    "name = \"Dulana\"\n",
    "Name = \"Kamal\"\n",
    "\n",
    "print(name)\n",
    "print(Name)"
   ]
  },
  {
   "cell_type": "code",
   "execution_count": null,
   "id": "720af046",
   "metadata": {},
   "outputs": [
    {
     "name": "stdout",
     "output_type": "stream",
     "text": [
      "Done\n"
     ]
    }
   ],
   "source": [
    "# Indentation \n",
    "# Python uses indentation to define to define blocks of code. Consistent use of spaces (Commonly 4) or a tab is required.\n",
    "\n",
    "age = 32\n",
    "if (age > 20):\n",
    "    print(\"Done\")    \n",
    "else :\n",
    "    print(\"Yes\")"
   ]
  },
  {
   "cell_type": "code",
   "execution_count": 6,
   "id": "3af2d527",
   "metadata": {},
   "outputs": [
    {
     "data": {
      "text/plain": [
       "11"
      ]
     },
     "execution_count": 6,
     "metadata": {},
     "output_type": "execute_result"
    }
   ],
   "source": [
    "## Line continuation\n",
    "total = 1+2+3+ \\\n",
    "    5\n",
    "total"
   ]
  },
  {
   "cell_type": "code",
   "execution_count": 9,
   "id": "f8d9c0b1",
   "metadata": {},
   "outputs": [
    {
     "data": {
      "text/plain": [
       "11"
      ]
     },
     "execution_count": 9,
     "metadata": {},
     "output_type": "execute_result"
    }
   ],
   "source": [
    "## Multiple statements on a single line\n",
    "x=5;y=6;z=x+y\n",
    "z"
   ]
  },
  {
   "cell_type": "code",
   "execution_count": 10,
   "id": "c0c1ce08",
   "metadata": {},
   "outputs": [
    {
     "data": {
      "text/plain": [
       "(int, str)"
      ]
     },
     "execution_count": 10,
     "metadata": {},
     "output_type": "execute_result"
    }
   ],
   "source": [
    "## Understand Semantics in python\n",
    "# variable assignment\n",
    "age = 32 ## integer\n",
    "name = \"Dulana\" ## String\n",
    "type(age),type(name)"
   ]
  },
  {
   "cell_type": "code",
   "execution_count": 12,
   "id": "6ece4fa5",
   "metadata": {},
   "outputs": [
    {
     "name": "stdout",
     "output_type": "stream",
     "text": [
      "<class 'int'>\n",
      "<class 'str'>\n"
     ]
    }
   ],
   "source": [
    "## Type Inference\n",
    "variable = 10\n",
    "print(type(variable))\n",
    "variable=\"Dulana\"\n",
    "print(type(variable))"
   ]
  },
  {
   "cell_type": "code",
   "execution_count": 14,
   "id": "b857064e",
   "metadata": {},
   "outputs": [],
   "source": [
    "##b = 10\n",
    "## Name error\n",
    "a = b \n"
   ]
  },
  {
   "cell_type": "code",
   "execution_count": null,
   "id": "1b72b35e",
   "metadata": {},
   "outputs": [],
   "source": []
  }
 ],
 "metadata": {
  "kernelspec": {
   "display_name": "Python 3",
   "language": "python",
   "name": "python3"
  },
  "language_info": {
   "codemirror_mode": {
    "name": "ipython",
    "version": 3
   },
   "file_extension": ".py",
   "mimetype": "text/x-python",
   "name": "python",
   "nbconvert_exporter": "python",
   "pygments_lexer": "ipython3",
   "version": "3.12.11"
  }
 },
 "nbformat": 4,
 "nbformat_minor": 5
}
