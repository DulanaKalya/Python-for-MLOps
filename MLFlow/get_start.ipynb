{
 "cells": [
  {
   "cell_type": "markdown",
   "id": "8286076f",
   "metadata": {},
   "source": [
    "MLFlow Tracking server"
   ]
  },
  {
   "cell_type": "code",
   "execution_count": 1,
   "id": "ec8f7d6c",
   "metadata": {},
   "outputs": [],
   "source": [
    "import mlflow"
   ]
  },
  {
   "cell_type": "code",
   "execution_count": 3,
   "id": "05129638",
   "metadata": {},
   "outputs": [],
   "source": [
    "mlflow.set_tracking_uri(\"http://127.0.0.1:5000\")"
   ]
  },
  {
   "cell_type": "code",
   "execution_count": 4,
   "id": "672018a2",
   "metadata": {},
   "outputs": [
    {
     "name": "stderr",
     "output_type": "stream",
     "text": [
      "2025/07/24 17:15:17 INFO mlflow.tracking.fluent: Experiment with name 'check localhost connection' does not exist. Creating a new experiment.\n"
     ]
    },
    {
     "data": {
      "text/plain": [
       "<Experiment: artifact_location='mlflow-artifacts:/367056520429259590', creation_time=1753357518003, experiment_id='367056520429259590', last_update_time=1753357518003, lifecycle_stage='active', name='check localhost connection', tags={}>"
      ]
     },
     "execution_count": 4,
     "metadata": {},
     "output_type": "execute_result"
    }
   ],
   "source": [
    "mlflow.set_experiment(\"check localhost connection\")"
   ]
  },
  {
   "cell_type": "code",
   "execution_count": 5,
   "id": "ced7644e",
   "metadata": {},
   "outputs": [
    {
     "name": "stdout",
     "output_type": "stream",
     "text": [
      "🏃 View run bold-penguin-187 at: http://127.0.0.1:5000/#/experiments/367056520429259590/runs/65637963964b4cc08862d40eb9c1162b\n",
      "🧪 View experiment at: http://127.0.0.1:5000/#/experiments/367056520429259590\n"
     ]
    }
   ],
   "source": [
    "with mlflow.start_run():\n",
    "    mlflow.log_metric(\"test\",1)\n",
    "    mlflow.log_metric(\"Keish\",2)"
   ]
  },
  {
   "cell_type": "code",
   "execution_count": null,
   "id": "8227f9f5",
   "metadata": {},
   "outputs": [],
   "source": []
  }
 ],
 "metadata": {
  "kernelspec": {
   "display_name": "MLOps",
   "language": "python",
   "name": "python3"
  },
  "language_info": {
   "codemirror_mode": {
    "name": "ipython",
    "version": 3
   },
   "file_extension": ".py",
   "mimetype": "text/x-python",
   "name": "python",
   "nbconvert_exporter": "python",
   "pygments_lexer": "ipython3",
   "version": "3.12.0"
  }
 },
 "nbformat": 4,
 "nbformat_minor": 5
}
