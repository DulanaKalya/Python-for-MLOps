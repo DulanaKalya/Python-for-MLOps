{
 "cells": [
  {
   "cell_type": "code",
   "execution_count": 1,
   "id": "16871a7c",
   "metadata": {},
   "outputs": [
    {
     "data": {
      "text/plain": [
       "'Iterator are advanced python concepts that allow for efficient looping and memory management.Iterators provide a way to\\n    access elements of a collection squentially without exposing sequentially without exposing the \\n    underlying structure'"
      ]
     },
     "execution_count": 1,
     "metadata": {},
     "output_type": "execute_result"
    }
   ],
   "source": [
    "\"\"\"Iterator are advanced python concepts that allow for efficient looping and memory management.Iterators provide a way to\n",
    "    access elements of a collection squentially without exposing sequentially without exposing the \n",
    "    underlying structure\"\"\""
   ]
  },
  {
   "cell_type": "code",
   "execution_count": 2,
   "id": "b8fa4699",
   "metadata": {},
   "outputs": [
    {
     "name": "stdout",
     "output_type": "stream",
     "text": [
      "<class 'list_iterator'>\n"
     ]
    }
   ],
   "source": [
    "## Iterator\n",
    "\n",
    "my_list = [1,2,3,4,5,6]\n",
    "iterator = iter(my_list)\n",
    "print(type(iterator))\n"
   ]
  },
  {
   "cell_type": "code",
   "execution_count": 6,
   "id": "1d5923b2",
   "metadata": {},
   "outputs": [
    {
     "data": {
      "text/plain": [
       "4"
      ]
     },
     "execution_count": 6,
     "metadata": {},
     "output_type": "execute_result"
    }
   ],
   "source": [
    "## Iterate through all the element\n",
    "next(iterator)"
   ]
  },
  {
   "cell_type": "code",
   "execution_count": 11,
   "id": "133939c8",
   "metadata": {},
   "outputs": [],
   "source": [
    "iterator = iter(my_list)"
   ]
  },
  {
   "cell_type": "code",
   "execution_count": 19,
   "id": "eb957043",
   "metadata": {},
   "outputs": [
    {
     "name": "stdout",
     "output_type": "stream",
     "text": [
      "There are no elemets in the iterator\n"
     ]
    }
   ],
   "source": [
    "try:\n",
    "    print(next(iterator))\n",
    "except StopIteration:\n",
    "    print(\"There are no elemets in the iterator\")"
   ]
  },
  {
   "cell_type": "code",
   "execution_count": null,
   "id": "3b81f0b7",
   "metadata": {},
   "outputs": [],
   "source": []
  }
 ],
 "metadata": {
  "kernelspec": {
   "display_name": "Python 3",
   "language": "python",
   "name": "python3"
  },
  "language_info": {
   "codemirror_mode": {
    "name": "ipython",
    "version": 3
   },
   "file_extension": ".py",
   "mimetype": "text/x-python",
   "name": "python",
   "nbconvert_exporter": "python",
   "pygments_lexer": "ipython3",
   "version": "3.12.0"
  }
 },
 "nbformat": 4,
 "nbformat_minor": 5
}
