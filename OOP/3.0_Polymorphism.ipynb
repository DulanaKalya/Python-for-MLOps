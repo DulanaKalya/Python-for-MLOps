{
 "cells": [
  {
   "cell_type": "code",
   "execution_count": 12,
   "id": "d684edff",
   "metadata": {},
   "outputs": [
    {
     "data": {
      "text/plain": [
       "'Polymorphism is a core concept in OOP that allows objects of diiferent classes to be trated\\nas objects of a common superclass. It provides a way to perform a single action in different forms.\\nPolymorphism is typically achieved through method overriding and interfaces '"
      ]
     },
     "execution_count": 12,
     "metadata": {},
     "output_type": "execute_result"
    }
   ],
   "source": [
    "\"\"\"Polymorphism is a core concept in OOP that allows objects of diiferent classes to be trated\n",
    "as objects of a common superclass. It provides a way to perform a single action in different forms.\n",
    "Polymorphism is typically achieved through method overriding and interfaces \"\"\""
   ]
  },
  {
   "cell_type": "code",
   "execution_count": 13,
   "id": "fd7387b6",
   "metadata": {},
   "outputs": [],
   "source": [
    "### Methods Overriding\n",
    "\n",
    "# Base class\n",
    "class Animal:\n",
    "    def speak(self):\n",
    "        return \"sounds of the animal\"\n",
    "\n",
    "class Dog(Animal):\n",
    "    def speak(self):\n",
    "        return \"Woof\"\n",
    "\n",
    "class Cat(Animal):\n",
    "    def speak(self):\n",
    "        return \"Meow!\""
   ]
  },
  {
   "cell_type": "code",
   "execution_count": 14,
   "id": "ac1a3b2f",
   "metadata": {},
   "outputs": [
    {
     "name": "stdout",
     "output_type": "stream",
     "text": [
      "Woof\n",
      "Woof\n",
      "Woof\n"
     ]
    }
   ],
   "source": [
    "# Function that demostrates polymorphism\n",
    "def animal_speak(animal):\n",
    "    print(animal.speak())\n",
    "\n",
    "dog = Dog()\n",
    "cat = Cat()\n",
    "\n",
    "print(dog.speak())\n",
    "print(dog.speak())\n",
    "animal_speak(dog)\n"
   ]
  },
  {
   "cell_type": "code",
   "execution_count": 15,
   "id": "935eccd9",
   "metadata": {},
   "outputs": [],
   "source": [
    "import math"
   ]
  },
  {
   "cell_type": "code",
   "execution_count": 16,
   "id": "9a0a807d",
   "metadata": {},
   "outputs": [],
   "source": [
    "### Polymorphism with Function and methods\n",
    "## base class\n",
    "\n",
    "class Shape:\n",
    "    def area(self):\n",
    "        return \"The area of the figure\"\n",
    "\n",
    "class Rectangular(Shape):\n",
    "    \n",
    "    def __init__(self,width,height):\n",
    "        self.width = width\n",
    "        self.height = height\n",
    "    \n",
    "    def area(self):\n",
    "        return self.width * self.height\n",
    "    \n",
    "class Circle(Shape):\n",
    "    def __init__(self,radius):\n",
    "        self.radius = radius\n",
    "\n",
    "    def area(self):\n",
    "        return math.pi*self.radius**2"
   ]
  },
  {
   "cell_type": "code",
   "execution_count": 17,
   "id": "204d4b72",
   "metadata": {},
   "outputs": [
    {
     "data": {
      "text/plain": [
       "'Abstract base classes are used to define common methods for a group of related objects.\\nThey can enforce that derived classes implement particular methods,\\npromoting consistensy across different implementation'"
      ]
     },
     "execution_count": 17,
     "metadata": {},
     "output_type": "execute_result"
    }
   ],
   "source": [
    "# Polymorphism with abstract base class\n",
    "\n",
    "\"\"\"Abstract base classes are used to define common methods for a group of related objects.\n",
    "They can enforce that derived classes implement particular methods,\n",
    "promoting consistensy across different implementation\"\"\""
   ]
  },
  {
   "cell_type": "code",
   "execution_count": 18,
   "id": "2e0c8a4e",
   "metadata": {},
   "outputs": [],
   "source": [
    "from abc import ABC,abstractmethod\n",
    "\n",
    "#Define and abstract class\n",
    "class Vehicle(ABC):\n",
    "    @abstractmethod\n",
    "    def start_engine(self):\n",
    "        pass\n",
    "\n",
    "class Car(Vehicle):\n",
    "    def start_engine(self):\n",
    "        return \"car engine started\"\n",
    "    \n",
    "class Motorcycle(Vehicle):\n",
    "    def start_engine(self):\n",
    "        return \"bike engine started\""
   ]
  },
  {
   "cell_type": "code",
   "execution_count": 20,
   "id": "d7f57cb6",
   "metadata": {},
   "outputs": [],
   "source": [
    "# create object of car and motocycle\n",
    "\n",
    "car = Car()\n",
    "motorcycle = Motorcycle()"
   ]
  }
 ],
 "metadata": {
  "kernelspec": {
   "display_name": "MLOps",
   "language": "python",
   "name": "python3"
  },
  "language_info": {
   "codemirror_mode": {
    "name": "ipython",
    "version": 3
   },
   "file_extension": ".py",
   "mimetype": "text/x-python",
   "name": "python",
   "nbconvert_exporter": "python",
   "pygments_lexer": "ipython3",
   "version": "3.12.0"
  }
 },
 "nbformat": 4,
 "nbformat_minor": 5
}
