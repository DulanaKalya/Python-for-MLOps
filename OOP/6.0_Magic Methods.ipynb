{
 "cells": [
  {
   "cell_type": "code",
   "execution_count": 1,
   "id": "73a7169e",
   "metadata": {},
   "outputs": [
    {
     "data": {
      "text/plain": [
       "'Magic method in python , also known as dunder methods (double underscore methods), \\nare special methods that start and end with double underscores. These methods enable you\\nto define the behavior of objects for built in operations,such as arithmathic operations,\\ncomparisons,and more'"
      ]
     },
     "execution_count": 1,
     "metadata": {},
     "output_type": "execute_result"
    }
   ],
   "source": [
    "\"\"\"Magic method in python , also known as dunder methods (double underscore methods), \n",
    "are special methods that start and end with double underscores. These methods enable you\n",
    "to define the behavior of objects for built in operations,such as arithmathic operations,\n",
    "comparisons,and more\"\"\""
   ]
  },
  {
   "cell_type": "code",
   "execution_count": 2,
   "id": "7626c665",
   "metadata": {},
   "outputs": [
    {
     "data": {
      "text/plain": [
       "'Magic methods are predefined methods in python that you can override to chnage \\nthe behavior of your objects.\\nSome common magic methods include'"
      ]
     },
     "execution_count": 2,
     "metadata": {},
     "output_type": "execute_result"
    }
   ],
   "source": [
    "\"\"\"Magic methods are predefined methods in python that you can override to chnage \n",
    "the behavior of your objects.\n",
    "Some common magic methods include\"\"\""
   ]
  },
  {
   "cell_type": "code",
   "execution_count": 3,
   "id": "c8b20ccd",
   "metadata": {},
   "outputs": [
    {
     "data": {
      "text/plain": [
       "'\\n    __init__\\n    __str__\\n    __repr__\\n    __len__\\n    __getitem__\\n    __setitem__\\n                '"
      ]
     },
     "execution_count": 3,
     "metadata": {},
     "output_type": "execute_result"
    }
   ],
   "source": [
    "\"\"\"\n",
    "    __init__\n",
    "    __str__\n",
    "    __repr__\n",
    "    __len__\n",
    "    __getitem__\n",
    "    __setitem__\n",
    "                \"\"\""
   ]
  },
  {
   "cell_type": "code",
   "execution_count": 4,
   "id": "a28e42fc",
   "metadata": {},
   "outputs": [
    {
     "data": {
      "text/plain": [
       "['__class__',\n",
       " '__delattr__',\n",
       " '__dict__',\n",
       " '__dir__',\n",
       " '__doc__',\n",
       " '__eq__',\n",
       " '__format__',\n",
       " '__ge__',\n",
       " '__getattribute__',\n",
       " '__getstate__',\n",
       " '__gt__',\n",
       " '__hash__',\n",
       " '__init__',\n",
       " '__init_subclass__',\n",
       " '__le__',\n",
       " '__lt__',\n",
       " '__module__',\n",
       " '__ne__',\n",
       " '__new__',\n",
       " '__reduce__',\n",
       " '__reduce_ex__',\n",
       " '__repr__',\n",
       " '__setattr__',\n",
       " '__sizeof__',\n",
       " '__str__',\n",
       " '__subclasshook__',\n",
       " '__weakref__']"
      ]
     },
     "execution_count": 4,
     "metadata": {},
     "output_type": "execute_result"
    }
   ],
   "source": [
    "class Person:\n",
    "    pass\n",
    "\n",
    "person = Person()\n",
    "dir(person)"
   ]
  },
  {
   "cell_type": "code",
   "execution_count": 7,
   "id": "a69ebb4a",
   "metadata": {},
   "outputs": [
    {
     "name": "stdout",
     "output_type": "stream",
     "text": [
      "<__main__.Person object at 0x10696d3d0>\n"
     ]
    }
   ],
   "source": [
    "## Basic Methods\n",
    "class Person:\n",
    "    def __init__(self,name,age):\n",
    "        self.name=name\n",
    "        self.age=age\n",
    "\n",
    "person = Person(\"He he\",28)\n",
    "print(person)"
   ]
  },
  {
   "cell_type": "code",
   "execution_count": 9,
   "id": "863446c7",
   "metadata": {},
   "outputs": [
    {
     "name": "stdout",
     "output_type": "stream",
     "text": [
      "He he , 28 year's old .\n"
     ]
    }
   ],
   "source": [
    "## Basic Methods\n",
    "class Person:\n",
    "    def __init__(self,name,age):\n",
    "        self.name=name\n",
    "        self.age=age\n",
    "    \n",
    "    def __str__(self):\n",
    "        return f\"{self.name} , {self.age} year's old .\"\n",
    "\n",
    "person = Person(\"He he\",28)\n",
    "print(person)       # output of overridden __str__"
   ]
  },
  {
   "cell_type": "code",
   "execution_count": 10,
   "id": "79f281be",
   "metadata": {},
   "outputs": [
    {
     "name": "stdout",
     "output_type": "stream",
     "text": [
      "<__main__.Person object at 0x106935040>\n"
     ]
    }
   ],
   "source": [
    "print(repr(person))"
   ]
  },
  {
   "cell_type": "code",
   "execution_count": 11,
   "id": "9ce6ac4f",
   "metadata": {},
   "outputs": [
    {
     "name": "stdout",
     "output_type": "stream",
     "text": [
      "He he , 28 year's old .\n"
     ]
    }
   ],
   "source": [
    "## Basic Methods\n",
    "class Person:\n",
    "    def __init__(self,name,age):\n",
    "        self.name=name\n",
    "        self.age=age\n",
    "    \n",
    "    def __str__(self):\n",
    "        return f\"{self.name} , {self.age} year's old .\"\n",
    "    \n",
    "    def __repr__(self):\n",
    "        return f\"Person(name = {self.name},age = {self.age})\"\n",
    "\n",
    "person = Person(\"He he\",28)\n",
    "print(person)       # output of overridden __str__"
   ]
  }
 ],
 "metadata": {
  "kernelspec": {
   "display_name": "MLOps",
   "language": "python",
   "name": "python3"
  },
  "language_info": {
   "codemirror_mode": {
    "name": "ipython",
    "version": 3
   },
   "file_extension": ".py",
   "mimetype": "text/x-python",
   "name": "python",
   "nbconvert_exporter": "python",
   "pygments_lexer": "ipython3",
   "version": "3.12.0"
  }
 },
 "nbformat": 4,
 "nbformat_minor": 5
}
