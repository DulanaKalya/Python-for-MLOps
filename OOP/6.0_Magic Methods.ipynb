{
 "cells": [
  {
   "cell_type": "code",
   "execution_count": 1,
   "id": "73a7169e",
   "metadata": {},
   "outputs": [
    {
     "data": {
      "text/plain": [
       "'Magic method in python , also known as dunder methods (double underscore methods), \\nare special methods that start and end with double underscores. These methods enable you\\nto define the behavior of objects for built in operations,such as arithmathic operations,\\ncomparisons,and more'"
      ]
     },
     "execution_count": 1,
     "metadata": {},
     "output_type": "execute_result"
    }
   ],
   "source": [
    "\"\"\"Magic method in python , also known as dunder methods (double underscore methods), \n",
    "are special methods that start and end with double underscores. These methods enable you\n",
    "to define the behavior of objects for built in operations,such as arithmathic operations,\n",
    "comparisons,and more\"\"\""
   ]
  },
  {
   "cell_type": "code",
   "execution_count": 2,
   "id": "7626c665",
   "metadata": {},
   "outputs": [
    {
     "data": {
      "text/plain": [
       "'Magic methods are predefined methods in python that you can override to chnage \\nthe behavior of your objects.\\nSome common magic methods include'"
      ]
     },
     "execution_count": 2,
     "metadata": {},
     "output_type": "execute_result"
    }
   ],
   "source": [
    "\"\"\"Magic methods are predefined methods in python that you can override to chnage \n",
    "the behavior of your objects.\n",
    "Some common magic methods include\"\"\""
   ]
  },
  {
   "cell_type": "code",
   "execution_count": 3,
   "id": "c8b20ccd",
   "metadata": {},
   "outputs": [
    {
     "data": {
      "text/plain": [
       "'\\n    __init__\\n    __str__\\n    __repr__\\n    __len__\\n    __getitem__\\n    __setitem__\\n                '"
      ]
     },
     "execution_count": 3,
     "metadata": {},
     "output_type": "execute_result"
    }
   ],
   "source": [
    "\"\"\"\n",
    "    __init__\n",
    "    __str__\n",
    "    __repr__\n",
    "    __len__\n",
    "    __getitem__\n",
    "    __setitem__\n",
    "                \"\"\""
   ]
  },
  {
   "cell_type": "code",
   "execution_count": 4,
   "id": "a28e42fc",
   "metadata": {},
   "outputs": [
    {
     "data": {
      "text/plain": [
       "['__class__',\n",
       " '__delattr__',\n",
       " '__dict__',\n",
       " '__dir__',\n",
       " '__doc__',\n",
       " '__eq__',\n",
       " '__format__',\n",
       " '__ge__',\n",
       " '__getattribute__',\n",
       " '__getstate__',\n",
       " '__gt__',\n",
       " '__hash__',\n",
       " '__init__',\n",
       " '__init_subclass__',\n",
       " '__le__',\n",
       " '__lt__',\n",
       " '__module__',\n",
       " '__ne__',\n",
       " '__new__',\n",
       " '__reduce__',\n",
       " '__reduce_ex__',\n",
       " '__repr__',\n",
       " '__setattr__',\n",
       " '__sizeof__',\n",
       " '__str__',\n",
       " '__subclasshook__',\n",
       " '__weakref__']"
      ]
     },
     "execution_count": 4,
     "metadata": {},
     "output_type": "execute_result"
    }
   ],
   "source": [
    "class Person:\n",
    "    pass\n",
    "\n",
    "person = Person()\n",
    "dir(person)"
   ]
  },
  {
   "cell_type": "code",
   "execution_count": null,
   "id": "a69ebb4a",
   "metadata": {},
   "outputs": [],
   "source": []
  }
 ],
 "metadata": {
  "kernelspec": {
   "display_name": "MLOps",
   "language": "python",
   "name": "python3"
  },
  "language_info": {
   "codemirror_mode": {
    "name": "ipython",
    "version": 3
   },
   "file_extension": ".py",
   "mimetype": "text/x-python",
   "name": "python",
   "nbconvert_exporter": "python",
   "pygments_lexer": "ipython3",
   "version": "3.12.0"
  }
 },
 "nbformat": 4,
 "nbformat_minor": 5
}
