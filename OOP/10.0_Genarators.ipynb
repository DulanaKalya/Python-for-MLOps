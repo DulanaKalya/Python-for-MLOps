{
 "cells": [
  {
   "cell_type": "code",
   "execution_count": 36,
   "id": "d43dddcb",
   "metadata": {},
   "outputs": [
    {
     "data": {
      "text/plain": [
       "'Generators are a simpler way to create iterators.They use the yeild keyword to produce \\na series of values lazily, which means they genarate values on the fly and do not store them in memory'"
      ]
     },
     "execution_count": 36,
     "metadata": {},
     "output_type": "execute_result"
    }
   ],
   "source": [
    "\"\"\"Generators are a simpler way to create iterators.They use the yeild keyword to produce \n",
    "a series of values lazily, which means they genarate values on the fly and do not store them in memory\"\"\""
   ]
  },
  {
   "cell_type": "code",
   "execution_count": 37,
   "id": "1925dad7",
   "metadata": {},
   "outputs": [],
   "source": [
    "def square(n):\n",
    "    for i in range(3):\n",
    "        return i**2"
   ]
  },
  {
   "cell_type": "code",
   "execution_count": 38,
   "id": "d4ad0aa7",
   "metadata": {},
   "outputs": [
    {
     "data": {
      "text/plain": [
       "0"
      ]
     },
     "execution_count": 38,
     "metadata": {},
     "output_type": "execute_result"
    }
   ],
   "source": [
    "square(3)"
   ]
  },
  {
   "cell_type": "code",
   "execution_count": 39,
   "id": "f15d71ac",
   "metadata": {},
   "outputs": [],
   "source": [
    "def square(n):\n",
    "    for i in range(3):\n",
    "        #print(i**2)\n",
    "        yield i**2"
   ]
  },
  {
   "cell_type": "code",
   "execution_count": 40,
   "id": "71fa17a7",
   "metadata": {},
   "outputs": [
    {
     "data": {
      "text/plain": [
       "<generator object square at 0x10ae764d0>"
      ]
     },
     "execution_count": 40,
     "metadata": {},
     "output_type": "execute_result"
    }
   ],
   "source": [
    "square(3)"
   ]
  },
  {
   "cell_type": "code",
   "execution_count": 41,
   "id": "5e5fdda0",
   "metadata": {},
   "outputs": [
    {
     "name": "stdout",
     "output_type": "stream",
     "text": [
      "0\n",
      "1\n",
      "4\n"
     ]
    }
   ],
   "source": [
    "for i in square(3):\n",
    "    print(i)"
   ]
  },
  {
   "cell_type": "code",
   "execution_count": 42,
   "id": "e989ffde",
   "metadata": {},
   "outputs": [],
   "source": [
    "a = square(3)"
   ]
  },
  {
   "cell_type": "code",
   "execution_count": 43,
   "id": "52d9d000",
   "metadata": {},
   "outputs": [
    {
     "name": "stdout",
     "output_type": "stream",
     "text": [
      "0\n"
     ]
    }
   ],
   "source": [
    "try:\n",
    "    print(next(a))\n",
    "except Exception:\n",
    "    print(\"Done\")"
   ]
  },
  {
   "cell_type": "code",
   "execution_count": 44,
   "id": "ec6fcf26",
   "metadata": {},
   "outputs": [],
   "source": [
    "def my_genarator():\n",
    "    yield 1\n",
    "    yield 2\n",
    "    yield 3"
   ]
  },
  {
   "cell_type": "code",
   "execution_count": 45,
   "id": "a845f399",
   "metadata": {},
   "outputs": [
    {
     "data": {
      "text/plain": [
       "<generator object my_genarator at 0x10a9fa8d0>"
      ]
     },
     "execution_count": 45,
     "metadata": {},
     "output_type": "execute_result"
    }
   ],
   "source": [
    "gen = my_genarator()\n",
    "gen"
   ]
  },
  {
   "cell_type": "code",
   "execution_count": 46,
   "id": "960d1ade",
   "metadata": {},
   "outputs": [
    {
     "name": "stdout",
     "output_type": "stream",
     "text": [
      "1\n",
      "2\n",
      "3\n"
     ]
    }
   ],
   "source": [
    "\n",
    "for val in gen:\n",
    "    print(val)"
   ]
  },
  {
   "cell_type": "code",
   "execution_count": 48,
   "id": "76f33396",
   "metadata": {},
   "outputs": [
    {
     "ename": "StopIteration",
     "evalue": "",
     "output_type": "error",
     "traceback": [
      "\u001b[31m---------------------------------------------------------------------------\u001b[39m",
      "\u001b[31mStopIteration\u001b[39m                             Traceback (most recent call last)",
      "\u001b[36mCell\u001b[39m\u001b[36m \u001b[39m\u001b[32mIn[48]\u001b[39m\u001b[32m, line 1\u001b[39m\n\u001b[32m----> \u001b[39m\u001b[32m1\u001b[39m \u001b[38;5;28;43mnext\u001b[39;49m\u001b[43m(\u001b[49m\u001b[43mgen\u001b[49m\u001b[43m)\u001b[49m\n",
      "\u001b[31mStopIteration\u001b[39m: "
     ]
    }
   ],
   "source": [
    "next(gen)"
   ]
  },
  {
   "cell_type": "code",
   "execution_count": 49,
   "id": "f16abd86",
   "metadata": {},
   "outputs": [
    {
     "data": {
      "text/plain": [
       "'Generators are paticularly useful for reading large file because they allow you to process \\n    one line at a time without loading the entire file into memory.'"
      ]
     },
     "execution_count": 49,
     "metadata": {},
     "output_type": "execute_result"
    }
   ],
   "source": [
    "# Example Reading large file\n",
    "\n",
    "\"\"\"Generators are paticularly useful for reading large file because they allow you to process \n",
    "    one line at a time without loading the entire file into memory.\"\"\"\n"
   ]
  },
  {
   "cell_type": "code",
   "execution_count": null,
   "id": "3de16a92",
   "metadata": {},
   "outputs": [],
   "source": [
    "def read_large_file(file_path):\n",
    "    with open(file_path,'r') as file:\n",
    "        for line in file:\n",
    "            yield line              # Only one line is in memory at a time"
   ]
  },
  {
   "cell_type": "code",
   "execution_count": 51,
   "id": "45937f3d",
   "metadata": {},
   "outputs": [
    {
     "name": "stdout",
     "output_type": "stream",
     "text": [
      "What is a paragraph?\n",
      "Paragraphs are the building blocks of papers.\n",
      "Many students define paragraphs in terms of length:\n",
      "a paragraph is a group of at least five sentences,\n",
      "a paragraph is half a page long, etc.\n",
      "In reality, though, the unity and coherence of ideas among sentences is what constitutes a paragraph.\n",
      "A paragraph is defined as “a group of sentences or a single sentence that forms a unit” (Lunsford and Connors 116).\n",
      "Length and appearance do not determine whether a section in a paper is a paragraph.\n",
      "For instance, in some styles of writing, particularly journalistic styles, a paragraph can be just one sentence long.\n",
      "Ultimately, a paragraph is a sentence or group of sentences that support one main idea. In this handout, we will refer to this as the “controlling idea,” because it controls what happens in the rest of the paragraph.\n",
      "\n"
     ]
    }
   ],
   "source": [
    "file_path = 'large_file.txt'\n",
    "\n",
    "for line in read_large_file(file_path):\n",
    "    print(line.strip())"
   ]
  },
  {
   "cell_type": "code",
   "execution_count": 52,
   "id": "9c76b56f",
   "metadata": {},
   "outputs": [
    {
     "data": {
      "text/plain": [
       "'| Feature      | Using `yield`             |\\n| ------------ | ------------------------- |\\n| Memory usage | Low (line-by-line)        |\\n| Speed        | Efficient for large files |\\n| Scalability  | Can handle huge files     |\\n| Simplicity   | Easy to implement         |\\n'"
      ]
     },
     "execution_count": 52,
     "metadata": {},
     "output_type": "execute_result"
    }
   ],
   "source": [
    "\"\"\"| Feature      | Using `yield`             |\n",
    "| ------------ | ------------------------- |\n",
    "| Memory usage | Low (line-by-line)        |\n",
    "| Speed        | Efficient for large files |\n",
    "| Scalability  | Can handle huge files     |\n",
    "| Simplicity   | Easy to implement         |\n",
    "\"\"\""
   ]
  }
 ],
 "metadata": {
  "kernelspec": {
   "display_name": "Python 3",
   "language": "python",
   "name": "python3"
  },
  "language_info": {
   "codemirror_mode": {
    "name": "ipython",
    "version": 3
   },
   "file_extension": ".py",
   "mimetype": "text/x-python",
   "name": "python",
   "nbconvert_exporter": "python",
   "pygments_lexer": "ipython3",
   "version": "3.12.0"
  }
 },
 "nbformat": 4,
 "nbformat_minor": 5
}
