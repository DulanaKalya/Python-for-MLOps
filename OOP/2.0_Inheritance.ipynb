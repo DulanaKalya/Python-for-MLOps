{
 "cells": [
  {
   "cell_type": "code",
   "execution_count": 1,
   "id": "53136e81",
   "metadata": {},
   "outputs": [],
   "source": [
    "\"\"\"\n",
    "    Inheritance is a fundamental concept in OOP that alllows a class to inherit\n",
    "    attributes and methods from another class.\n",
    "     1. single inheritence\n",
    "     2. multiple inheritance\n",
    "\"\"\"\n",
    "\n",
    "# Inheritance\n",
    "# Parent class\n",
    "class Car:\n",
    "    def __init__(self,windows,doors,engine_type):\n",
    "        self.windows = windows\n",
    "        self.doors = doors\n",
    "        self.engine_type = engine_type\n",
    "\n",
    "    def drive(self):\n",
    "        print(f\"This car is a {self.engine_type} car\")"
   ]
  },
  {
   "cell_type": "code",
   "execution_count": 2,
   "id": "a515e404",
   "metadata": {},
   "outputs": [],
   "source": [
    "class Tesla(Car):\n",
    "    def __init__(self,windows,doors,engine_type,is_selfdriving):\n",
    "        super().__init__(windows,doors,engine_type)               # Inheritance\n",
    "        self.is_selfdriving = is_selfdriving\n",
    "\n",
    "    def selfdriving(self):\n",
    "        print(\"Tesla supports self driving : {self.is_selfdriving} .\")"
   ]
  },
  {
   "cell_type": "code",
   "execution_count": 3,
   "id": "56b2848e",
   "metadata": {},
   "outputs": [
    {
     "name": "stdout",
     "output_type": "stream",
     "text": [
      "This car is a electric car\n"
     ]
    }
   ],
   "source": [
    "tesla = Tesla(4,5,\"electric\",True)\n",
    "tesla.drive()"
   ]
  },
  {
   "cell_type": "code",
   "execution_count": 5,
   "id": "ca884d53",
   "metadata": {},
   "outputs": [
    {
     "name": "stdout",
     "output_type": "stream",
     "text": [
      "Tesla supports self driving : {self.is_selfdriving} .\n"
     ]
    }
   ],
   "source": [
    "tesla.selfdriving()"
   ]
  },
  {
   "cell_type": "code",
   "execution_count": null,
   "id": "eca45961",
   "metadata": {},
   "outputs": [
    {
     "name": "stdout",
     "output_type": "stream",
     "text": [
      "He He say woof\n"
     ]
    }
   ],
   "source": [
    "# Multiple inheritance\n",
    "# When a class inherits from more than one base class\n",
    "\n",
    "class Animal:\n",
    "    def __init__(self,name):\n",
    "        self.name = name\n",
    "    def speak(self):\n",
    "        print(\"Subclass must implement this method\")\n",
    "\n",
    "class Pet:\n",
    "    def __init__(self,owner):\n",
    "        self.owner = owner\n",
    "\n",
    "class Dog(Animal,Pet):\n",
    "    def __init__(self,name,owner):\n",
    "        Animal.__init__(self,name)\n",
    "        Pet.__init__(self,owner)\n",
    "\n",
    "    def speak(self):\n",
    "        return f\"{self.name} say woof\"\n",
    "    \n",
    "\n",
    "# Create an object\n",
    "\n",
    "dog=Dog(\"He He\",\"Dulana\")\n",
    "print(dog.speak())\n",
    "#print((Animal.speak())            ================= ERROR ================="
   ]
  }
 ],
 "metadata": {
  "kernelspec": {
   "display_name": "MLOps",
   "language": "python",
   "name": "python3"
  },
  "language_info": {
   "codemirror_mode": {
    "name": "ipython",
    "version": 3
   },
   "file_extension": ".py",
   "mimetype": "text/x-python",
   "name": "python",
   "nbconvert_exporter": "python",
   "pygments_lexer": "ipython3",
   "version": "3.12.0"
  }
 },
 "nbformat": 4,
 "nbformat_minor": 5
}
