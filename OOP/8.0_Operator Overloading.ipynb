{
 "cells": [
  {
   "cell_type": "code",
   "execution_count": 11,
   "id": "fbfdfa11",
   "metadata": {},
   "outputs": [],
   "source": [
    "class Vector:\n",
    "    def __init__(self,x,y):\n",
    "        self.x=x\n",
    "        self.y=y\n",
    "    \n",
    "    def __add__(self,other):\n",
    "        return Vector(self.x+other.x,self.y+other.y)\n",
    "    \n",
    "    def __sub__(self,other):\n",
    "        return Vector(self.x-other.x,self.y-other.y)\n",
    "    \n",
    "    def __mul__(self,other):\n",
    "        return Vector(self.x * other.x , self.y * other.y)\n",
    "    \n",
    "    def __eq__(self,other):\n",
    "        return self.x==other.x and self.y==other.y\n",
    "    \n",
    "    def __str__(self):\n",
    "        return f\"{self.x} , {self.y}\"\n",
    "    \n",
    "    def __repr__(self):\n",
    "        return f\"Vector({self.x},{self.y})\""
   ]
  },
  {
   "cell_type": "code",
   "execution_count": 13,
   "id": "fec580e0",
   "metadata": {},
   "outputs": [
    {
     "name": "stdout",
     "output_type": "stream",
     "text": [
      "True\n",
      "2 , 4\n",
      "2 , 4\n",
      "0 , 0\n",
      "1 , 4\n"
     ]
    }
   ],
   "source": [
    "vect1 = Vector(1,2)\n",
    "vect2 = Vector(1,2)\n",
    "\n",
    "sum = vect1.__add__(vect2)\n",
    "print(vect1.__eq__(vect2))\n",
    "\n",
    "print(sum.__str__())\n",
    "print(vect1+vect2)\n",
    "\n",
    "print(vect1-vect2)\n",
    "print(vect1*vect2)"
   ]
  },
  {
   "cell_type": "code",
   "execution_count": null,
   "id": "29b39569",
   "metadata": {},
   "outputs": [],
   "source": []
  }
 ],
 "metadata": {
  "kernelspec": {
   "display_name": "Python 3",
   "language": "python",
   "name": "python3"
  },
  "language_info": {
   "codemirror_mode": {
    "name": "ipython",
    "version": 3
   },
   "file_extension": ".py",
   "mimetype": "text/x-python",
   "name": "python",
   "nbconvert_exporter": "python",
   "pygments_lexer": "ipython3",
   "version": "3.12.0"
  }
 },
 "nbformat": 4,
 "nbformat_minor": 5
}
