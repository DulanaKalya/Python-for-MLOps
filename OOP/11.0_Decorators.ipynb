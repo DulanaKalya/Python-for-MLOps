{
 "cells": [
  {
   "cell_type": "code",
   "execution_count": 1,
   "id": "4c84a0c9",
   "metadata": {},
   "outputs": [
    {
     "data": {
      "text/plain": [
       "'Decorators are a powerful and flexible in python that allows you to modify\\n    the behavior of a functions or method. They are commonly used to add funtionality to functions \\n    or methods without modifying their actual code. This lesson covers the basics of decorators,\\n    including how to create and use them.'"
      ]
     },
     "execution_count": 1,
     "metadata": {},
     "output_type": "execute_result"
    }
   ],
   "source": [
    "\"\"\"Decorators are a powerful and flexible in python that allows you to modify\n",
    "    the behavior of a functions or method. They are commonly used to add funtionality to functions \n",
    "    or methods without modifying their actual code. This lesson covers the basics of decorators,\n",
    "    including how to create and use them.\"\"\""
   ]
  },
  {
   "cell_type": "code",
   "execution_count": 2,
   "id": "41a6d54d",
   "metadata": {},
   "outputs": [
    {
     "data": {
      "text/plain": [
       "'Welcomr to the world'"
      ]
     },
     "execution_count": 2,
     "metadata": {},
     "output_type": "execute_result"
    }
   ],
   "source": [
    "def welcome():\n",
    "    return \"Welcomr to the world\"\n",
    "welcome()"
   ]
  },
  {
   "cell_type": "code",
   "execution_count": 3,
   "id": "19843138",
   "metadata": {},
   "outputs": [
    {
     "name": "stdout",
     "output_type": "stream",
     "text": [
      "Welcomr to the world\n",
      "Welcomr to the world\n"
     ]
    }
   ],
   "source": [
    "#function copy\n",
    "wel = welcome\n",
    "print(wel())\n",
    "\n",
    "del welcome\n",
    "print(wel())"
   ]
  },
  {
   "cell_type": "code",
   "execution_count": null,
   "id": "4bff4970",
   "metadata": {},
   "outputs": [],
   "source": [
    "#closures\n",
    "\n",
    "def main_welcome():\n",
    "    msg = \"Welcome\"\n",
    "    def sub_welcome_method():\n",
    "        print(\"Welcome to advance python course\")\n",
    "        print(\"Please learn this concept properly\")\n",
    "    return sub_welcome_method()\n",
    "\n"
   ]
  },
  {
   "cell_type": "code",
   "execution_count": 13,
   "id": "a2fc66d1",
   "metadata": {},
   "outputs": [
    {
     "name": "stdout",
     "output_type": "stream",
     "text": [
      "Welcome to advance python course\n",
      "Please learn this concept properly\n"
     ]
    }
   ],
   "source": [
    "main_welcome()"
   ]
  },
  {
   "cell_type": "code",
   "execution_count": 16,
   "id": "a2184c49",
   "metadata": {},
   "outputs": [],
   "source": [
    "#closures\n",
    "\n",
    "def main_welcome(msg):\n",
    "    #msg = \"Welcome\"\n",
    "    def sub_welcome_method():\n",
    "        print(\"Welcome to advance python course\")\n",
    "        print(msg)\n",
    "        print(\"Please learn this concept properly\")\n",
    "    return sub_welcome_method()\n",
    "\n"
   ]
  },
  {
   "cell_type": "code",
   "execution_count": 17,
   "id": "939601c7",
   "metadata": {},
   "outputs": [
    {
     "name": "stdout",
     "output_type": "stream",
     "text": [
      "Welcome to advance python course\n",
      "Hello Dulana\n",
      "Please learn this concept properly\n"
     ]
    }
   ],
   "source": [
    "main_welcome(\"Hello Dulana\")"
   ]
  },
  {
   "cell_type": "code",
   "execution_count": null,
   "id": "b0cdc39a",
   "metadata": {},
   "outputs": [],
   "source": [
    "#closures\n",
    "\n",
    "def main_welcome(msg):\n",
    "    #msg = \"Welcome\"\n",
    "    def sub_welcome_method():\n",
    "        print(\"Welcome to advance python course\")\n",
    "        print(msg)\n",
    "        print(\"Please learn this concept properly\")\n",
    "    return sub_welcome_method()\n",
    "\n"
   ]
  },
  {
   "cell_type": "code",
   "execution_count": 19,
   "id": "9487f88a",
   "metadata": {},
   "outputs": [
    {
     "name": "stdout",
     "output_type": "stream",
     "text": [
      "Welcome to advance python course\n",
      "Welcome\n",
      "Please learn this concept properly\n"
     ]
    }
   ],
   "source": [
    "#closures\n",
    "\n",
    "def main_welcome(func):\n",
    "    msg = \"Welcome\"\n",
    "    def sub_welcome_method():\n",
    "        print(\"Welcome to advance python course\")\n",
    "        func(msg)\n",
    "        print(\"Please learn this concept properly\")\n",
    "    return sub_welcome_method()\n",
    "\n",
    "\n",
    "main_welcome(print)"
   ]
  },
  {
   "cell_type": "code",
   "execution_count": 23,
   "id": "acf228e1",
   "metadata": {},
   "outputs": [],
   "source": [
    "def main_welcome(func,lst):\n",
    "    def main_wel():\n",
    "        print(\"Welcome to the world\")\n",
    "        print(func(lst))\n",
    "        print(\"Please leard=n these concept properly\")\n",
    "    return main_wel()"
   ]
  },
  {
   "cell_type": "code",
   "execution_count": 24,
   "id": "c25696ca",
   "metadata": {},
   "outputs": [
    {
     "name": "stdout",
     "output_type": "stream",
     "text": [
      "Welcome to the world\n",
      "4\n",
      "Please leard=n these concept properly\n"
     ]
    }
   ],
   "source": [
    "main_welcome(len,[1,2,3,4])"
   ]
  },
  {
   "cell_type": "code",
   "execution_count": 30,
   "id": "acf5d3bf",
   "metadata": {},
   "outputs": [],
   "source": [
    "## Decorator\n",
    "def main_welcome(func):\n",
    "    def sub_welcome_method():\n",
    "        print(\"Welcome to advance python course\")\n",
    "        func()\n",
    "        print(\"Please learn this concept properly\")\n",
    "    return sub_welcome_method()\n"
   ]
  },
  {
   "cell_type": "code",
   "execution_count": 31,
   "id": "01ca590e",
   "metadata": {},
   "outputs": [
    {
     "name": "stdout",
     "output_type": "stream",
     "text": [
      "Welcome to advance python course\n",
      "This is an advanced python course\n",
      "Please learn this concept properly\n"
     ]
    }
   ],
   "source": [
    "def course_introduction():\n",
    "    print(\"This is an advanced python course\")\n",
    "main_welcome(course_introduction)"
   ]
  },
  {
   "cell_type": "code",
   "execution_count": 32,
   "id": "bd2a9721",
   "metadata": {},
   "outputs": [
    {
     "name": "stdout",
     "output_type": "stream",
     "text": [
      "This is an advanced python course\n"
     ]
    }
   ],
   "source": [
    "course_introduction()"
   ]
  },
  {
   "cell_type": "code",
   "execution_count": 33,
   "id": "817dddf8",
   "metadata": {},
   "outputs": [
    {
     "name": "stdout",
     "output_type": "stream",
     "text": [
      "Welcome to advance python course\n",
      "This is an advanced python course\n",
      "Please learn this concept properly\n"
     ]
    }
   ],
   "source": [
    "@main_welcome\n",
    "def course_introduction():\n",
    "    print(\"This is an advanced python course\")"
   ]
  },
  {
   "cell_type": "code",
   "execution_count": 34,
   "id": "48612fc6",
   "metadata": {},
   "outputs": [],
   "source": [
    "## Decorator\n",
    "\n",
    "def my_decorator(func):\n",
    "    def wrapper():\n",
    "        print(\"Something is happening before the function is called.\")\n",
    "        func()\n",
    "        print(\"Something is happening after the function is called.\")\n",
    "    return wrapper"
   ]
  },
  {
   "cell_type": "code",
   "execution_count": 35,
   "id": "6b4e92ef",
   "metadata": {},
   "outputs": [],
   "source": [
    "@my_decorator\n",
    "def say_hello():\n",
    "    print(\"Hello\")"
   ]
  },
  {
   "cell_type": "code",
   "execution_count": 36,
   "id": "dda65fa9",
   "metadata": {},
   "outputs": [
    {
     "name": "stdout",
     "output_type": "stream",
     "text": [
      "Something is happening before the function is called.\n",
      "Hello\n",
      "Something is happening after the function is called.\n"
     ]
    }
   ],
   "source": [
    "say_hello()"
   ]
  },
  {
   "cell_type": "code",
   "execution_count": 38,
   "id": "42ee2503",
   "metadata": {},
   "outputs": [],
   "source": [
    "## Decorators with arguments\n",
    "def repeat(n):\n",
    "    def decorator(func):\n",
    "        def wrapper(*args,**kwargs):\n",
    "            for _ in range(n):\n",
    "                func(*args,**kwargs)\n",
    "        return wrapper\n",
    "    return decorator"
   ]
  },
  {
   "cell_type": "code",
   "execution_count": 39,
   "id": "2cffa55a",
   "metadata": {},
   "outputs": [],
   "source": [
    "@repeat(3)\n",
    "def say_hello():\n",
    "    print(\"Hello\")"
   ]
  },
  {
   "cell_type": "code",
   "execution_count": 40,
   "id": "c7a5ba7c",
   "metadata": {},
   "outputs": [
    {
     "name": "stdout",
     "output_type": "stream",
     "text": [
      "Hello\n",
      "Hello\n",
      "Hello\n"
     ]
    }
   ],
   "source": [
    "say_hello()"
   ]
  },
  {
   "cell_type": "code",
   "execution_count": null,
   "id": "8fde99d3",
   "metadata": {},
   "outputs": [],
   "source": []
  }
 ],
 "metadata": {
  "kernelspec": {
   "display_name": "Python 3",
   "language": "python",
   "name": "python3"
  },
  "language_info": {
   "codemirror_mode": {
    "name": "ipython",
    "version": 3
   },
   "file_extension": ".py",
   "mimetype": "text/x-python",
   "name": "python",
   "nbconvert_exporter": "python",
   "pygments_lexer": "ipython3",
   "version": "3.12.0"
  }
 },
 "nbformat": 4,
 "nbformat_minor": 5
}
